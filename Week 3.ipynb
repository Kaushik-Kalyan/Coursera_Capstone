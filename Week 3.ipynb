{
 "cells": [
  {
   "cell_type": "markdown",
   "metadata": {},
   "source": [
    "# Capstone Project - Car accident severity (Week 2)\n",
    "### Applied Data Science Capstone by IBM/Coursera"
   ]
  },
  {
   "cell_type": "markdown",
   "metadata": {},
   "source": [
    "## Table of contents\n",
    "* [Introduction: Business Problem](#introduction)\n",
    "* [Data](#data)\n",
    "* [Methodology](#methodology)\n",
    "* [Analysis](#analysis)\n",
    "* [Results and Discussion](#results)\n",
    "* [Conclusion](#conclusion)"
   ]
  },
  {
   "cell_type": "markdown",
   "metadata": {},
   "source": [
    "\n",
    "## Introduction: Business Problem <a name=\"introduction\"></a>"
   ]
  },
  {
   "cell_type": "markdown",
   "metadata": {},
   "source": [
    "   Every year the lives of approximately 1.35 million people are cut short as a result of a road traffic crash. Between 20 and 50 million more people suffer non-fatal injuries, with many incurring a disability as a result of their injury.\n",
    "\n",
    "   Road traffic injuries cause considerable economic losses to individuals, their families, and to nations as a whole. These losses arise from the cost of treatment as well as lost productivity for those killed or disabled by their injuries, and for family members who need to take time off work or school to care for the injured. Road traffic crashes cost most countries 3% of their gross domestic product."
   ]
  },
  {
   "cell_type": "markdown",
   "metadata": {},
   "source": [
    "Predicting an accident and minimizing the frequency of accidents is an atmost requirement for any person or it may be for Health Care Organisations.\n",
    "An accident and its sererity can be predicted based on several factor.\n",
    "<ul>\n",
    "    <li>Place of Accident(The place where the most accidents occur are more likely for encountering another accident).</li>\n",
    "    <li>Type of Vehicle(Some Vehicles are more prone for accidents</li>\n",
    "    <li>Road Condition</li>\n",
    "    <li>Weather & etc</li>\n",
    "</ul>\n",
    "\n",
    "<em>Predicting an accident severity ahead for a road,helps a driver to take a detour or makes him drive carefully.</em>\n",
    "    \n",
    "    "
   ]
  },
  {
   "cell_type": "markdown",
   "metadata": {},
   "source": [
    "### __Problem Statement__\n",
    "Can we predict the severity of an accident based on the previous history of the accidents?\n"
   ]
  },
  {
   "cell_type": "markdown",
   "metadata": {},
   "source": [
    "## Target Audience"
   ]
  },
  {
   "cell_type": "markdown",
   "metadata": {},
   "source": [
    "- Self Driving Cars - A car on AutoPilot will inform the Driver about the likehood of an accident and how severe it can be.\n",
    "- Navigation Systems - The optimal route maybe not the safest. Prediction helps to choose a route that is more safer and avoid accidents\n",
    "- Government - It helps for better road constructions and Safety measures and establishing Hospitals near the places which are more likely for Accident occurance."
   ]
  },
  {
   "cell_type": "markdown",
   "metadata": {},
   "source": [
    "## Data <a name=\"data\"></a>"
   ]
  },
  {
   "cell_type": "markdown",
   "metadata": {},
   "source": [
    "The Dataset used for the analysis is provide by SDOT Traffic Management Division, Traffic Records Group, for Seattle.Is consists of all the recorded accident cases of 2004-2018.It also includes the severity of an accident.\n",
    "\n",
    "The Dataset contains nearly 200000 row and 38 columns, it includes co-ordinates and type of accident and the severity of it."
   ]
  },
  {
   "cell_type": "markdown",
   "metadata": {},
   "source": [
    "Lets Look at the Dataset"
   ]
  },
  {
   "cell_type": "code",
   "execution_count": 3,
   "metadata": {},
   "outputs": [],
   "source": [
    "import pandas as pd\n",
    "import numpy as np"
   ]
  },
  {
   "cell_type": "code",
   "execution_count": 4,
   "metadata": {},
   "outputs": [
    {
     "name": "stderr",
     "output_type": "stream",
     "text": [
      "C:\\ProgramData\\Anaconda3\\lib\\site-packages\\IPython\\core\\interactiveshell.py:3063: DtypeWarning: Columns (33) have mixed types.Specify dtype option on import or set low_memory=False.\n",
      "  interactivity=interactivity, compiler=compiler, result=result)\n"
     ]
    }
   ],
   "source": [
    "df = pd.read_csv('Data-Collisions.csv')"
   ]
  },
  {
   "cell_type": "code",
   "execution_count": 5,
   "metadata": {},
   "outputs": [
    {
     "data": {
      "text/html": [
       "<div>\n",
       "<style scoped>\n",
       "    .dataframe tbody tr th:only-of-type {\n",
       "        vertical-align: middle;\n",
       "    }\n",
       "\n",
       "    .dataframe tbody tr th {\n",
       "        vertical-align: top;\n",
       "    }\n",
       "\n",
       "    .dataframe thead th {\n",
       "        text-align: right;\n",
       "    }\n",
       "</style>\n",
       "<table border=\"1\" class=\"dataframe\">\n",
       "  <thead>\n",
       "    <tr style=\"text-align: right;\">\n",
       "      <th></th>\n",
       "      <th>SEVERITYCODE</th>\n",
       "      <th>X</th>\n",
       "      <th>Y</th>\n",
       "      <th>OBJECTID</th>\n",
       "      <th>INCKEY</th>\n",
       "      <th>COLDETKEY</th>\n",
       "      <th>REPORTNO</th>\n",
       "      <th>STATUS</th>\n",
       "      <th>ADDRTYPE</th>\n",
       "      <th>INTKEY</th>\n",
       "      <th>...</th>\n",
       "      <th>ROADCOND</th>\n",
       "      <th>LIGHTCOND</th>\n",
       "      <th>PEDROWNOTGRNT</th>\n",
       "      <th>SDOTCOLNUM</th>\n",
       "      <th>SPEEDING</th>\n",
       "      <th>ST_COLCODE</th>\n",
       "      <th>ST_COLDESC</th>\n",
       "      <th>SEGLANEKEY</th>\n",
       "      <th>CROSSWALKKEY</th>\n",
       "      <th>HITPARKEDCAR</th>\n",
       "    </tr>\n",
       "  </thead>\n",
       "  <tbody>\n",
       "    <tr>\n",
       "      <th>0</th>\n",
       "      <td>2</td>\n",
       "      <td>-122.323148</td>\n",
       "      <td>47.703140</td>\n",
       "      <td>1</td>\n",
       "      <td>1307</td>\n",
       "      <td>1307</td>\n",
       "      <td>3502005</td>\n",
       "      <td>Matched</td>\n",
       "      <td>Intersection</td>\n",
       "      <td>37475.0</td>\n",
       "      <td>...</td>\n",
       "      <td>Wet</td>\n",
       "      <td>Daylight</td>\n",
       "      <td>NaN</td>\n",
       "      <td>NaN</td>\n",
       "      <td>NaN</td>\n",
       "      <td>10</td>\n",
       "      <td>Entering at angle</td>\n",
       "      <td>0</td>\n",
       "      <td>0</td>\n",
       "      <td>N</td>\n",
       "    </tr>\n",
       "    <tr>\n",
       "      <th>1</th>\n",
       "      <td>1</td>\n",
       "      <td>-122.347294</td>\n",
       "      <td>47.647172</td>\n",
       "      <td>2</td>\n",
       "      <td>52200</td>\n",
       "      <td>52200</td>\n",
       "      <td>2607959</td>\n",
       "      <td>Matched</td>\n",
       "      <td>Block</td>\n",
       "      <td>NaN</td>\n",
       "      <td>...</td>\n",
       "      <td>Wet</td>\n",
       "      <td>Dark - Street Lights On</td>\n",
       "      <td>NaN</td>\n",
       "      <td>6354039.0</td>\n",
       "      <td>NaN</td>\n",
       "      <td>11</td>\n",
       "      <td>From same direction - both going straight - bo...</td>\n",
       "      <td>0</td>\n",
       "      <td>0</td>\n",
       "      <td>N</td>\n",
       "    </tr>\n",
       "    <tr>\n",
       "      <th>2</th>\n",
       "      <td>1</td>\n",
       "      <td>-122.334540</td>\n",
       "      <td>47.607871</td>\n",
       "      <td>3</td>\n",
       "      <td>26700</td>\n",
       "      <td>26700</td>\n",
       "      <td>1482393</td>\n",
       "      <td>Matched</td>\n",
       "      <td>Block</td>\n",
       "      <td>NaN</td>\n",
       "      <td>...</td>\n",
       "      <td>Dry</td>\n",
       "      <td>Daylight</td>\n",
       "      <td>NaN</td>\n",
       "      <td>4323031.0</td>\n",
       "      <td>NaN</td>\n",
       "      <td>32</td>\n",
       "      <td>One parked--one moving</td>\n",
       "      <td>0</td>\n",
       "      <td>0</td>\n",
       "      <td>N</td>\n",
       "    </tr>\n",
       "    <tr>\n",
       "      <th>3</th>\n",
       "      <td>1</td>\n",
       "      <td>-122.334803</td>\n",
       "      <td>47.604803</td>\n",
       "      <td>4</td>\n",
       "      <td>1144</td>\n",
       "      <td>1144</td>\n",
       "      <td>3503937</td>\n",
       "      <td>Matched</td>\n",
       "      <td>Block</td>\n",
       "      <td>NaN</td>\n",
       "      <td>...</td>\n",
       "      <td>Dry</td>\n",
       "      <td>Daylight</td>\n",
       "      <td>NaN</td>\n",
       "      <td>NaN</td>\n",
       "      <td>NaN</td>\n",
       "      <td>23</td>\n",
       "      <td>From same direction - all others</td>\n",
       "      <td>0</td>\n",
       "      <td>0</td>\n",
       "      <td>N</td>\n",
       "    </tr>\n",
       "    <tr>\n",
       "      <th>4</th>\n",
       "      <td>2</td>\n",
       "      <td>-122.306426</td>\n",
       "      <td>47.545739</td>\n",
       "      <td>5</td>\n",
       "      <td>17700</td>\n",
       "      <td>17700</td>\n",
       "      <td>1807429</td>\n",
       "      <td>Matched</td>\n",
       "      <td>Intersection</td>\n",
       "      <td>34387.0</td>\n",
       "      <td>...</td>\n",
       "      <td>Wet</td>\n",
       "      <td>Daylight</td>\n",
       "      <td>NaN</td>\n",
       "      <td>4028032.0</td>\n",
       "      <td>NaN</td>\n",
       "      <td>10</td>\n",
       "      <td>Entering at angle</td>\n",
       "      <td>0</td>\n",
       "      <td>0</td>\n",
       "      <td>N</td>\n",
       "    </tr>\n",
       "    <tr>\n",
       "      <th>5</th>\n",
       "      <td>1</td>\n",
       "      <td>-122.387598</td>\n",
       "      <td>47.690575</td>\n",
       "      <td>6</td>\n",
       "      <td>320840</td>\n",
       "      <td>322340</td>\n",
       "      <td>E919477</td>\n",
       "      <td>Matched</td>\n",
       "      <td>Intersection</td>\n",
       "      <td>36974.0</td>\n",
       "      <td>...</td>\n",
       "      <td>Dry</td>\n",
       "      <td>Daylight</td>\n",
       "      <td>NaN</td>\n",
       "      <td>NaN</td>\n",
       "      <td>NaN</td>\n",
       "      <td>10</td>\n",
       "      <td>Entering at angle</td>\n",
       "      <td>0</td>\n",
       "      <td>0</td>\n",
       "      <td>N</td>\n",
       "    </tr>\n",
       "    <tr>\n",
       "      <th>6</th>\n",
       "      <td>1</td>\n",
       "      <td>-122.338485</td>\n",
       "      <td>47.618534</td>\n",
       "      <td>7</td>\n",
       "      <td>83300</td>\n",
       "      <td>83300</td>\n",
       "      <td>3282542</td>\n",
       "      <td>Matched</td>\n",
       "      <td>Intersection</td>\n",
       "      <td>29510.0</td>\n",
       "      <td>...</td>\n",
       "      <td>Wet</td>\n",
       "      <td>Daylight</td>\n",
       "      <td>NaN</td>\n",
       "      <td>8344002.0</td>\n",
       "      <td>NaN</td>\n",
       "      <td>10</td>\n",
       "      <td>Entering at angle</td>\n",
       "      <td>0</td>\n",
       "      <td>0</td>\n",
       "      <td>N</td>\n",
       "    </tr>\n",
       "    <tr>\n",
       "      <th>7</th>\n",
       "      <td>2</td>\n",
       "      <td>-122.320780</td>\n",
       "      <td>47.614076</td>\n",
       "      <td>9</td>\n",
       "      <td>330897</td>\n",
       "      <td>332397</td>\n",
       "      <td>EA30304</td>\n",
       "      <td>Matched</td>\n",
       "      <td>Intersection</td>\n",
       "      <td>29745.0</td>\n",
       "      <td>...</td>\n",
       "      <td>Dry</td>\n",
       "      <td>Daylight</td>\n",
       "      <td>NaN</td>\n",
       "      <td>NaN</td>\n",
       "      <td>NaN</td>\n",
       "      <td>5</td>\n",
       "      <td>Vehicle Strikes Pedalcyclist</td>\n",
       "      <td>6855</td>\n",
       "      <td>0</td>\n",
       "      <td>N</td>\n",
       "    </tr>\n",
       "    <tr>\n",
       "      <th>8</th>\n",
       "      <td>1</td>\n",
       "      <td>-122.335930</td>\n",
       "      <td>47.611904</td>\n",
       "      <td>10</td>\n",
       "      <td>63400</td>\n",
       "      <td>63400</td>\n",
       "      <td>2071243</td>\n",
       "      <td>Matched</td>\n",
       "      <td>Block</td>\n",
       "      <td>NaN</td>\n",
       "      <td>...</td>\n",
       "      <td>Dry</td>\n",
       "      <td>Daylight</td>\n",
       "      <td>NaN</td>\n",
       "      <td>6166014.0</td>\n",
       "      <td>NaN</td>\n",
       "      <td>32</td>\n",
       "      <td>One parked--one moving</td>\n",
       "      <td>0</td>\n",
       "      <td>0</td>\n",
       "      <td>N</td>\n",
       "    </tr>\n",
       "    <tr>\n",
       "      <th>9</th>\n",
       "      <td>2</td>\n",
       "      <td>-122.384700</td>\n",
       "      <td>47.528475</td>\n",
       "      <td>12</td>\n",
       "      <td>58600</td>\n",
       "      <td>58600</td>\n",
       "      <td>2072105</td>\n",
       "      <td>Matched</td>\n",
       "      <td>Intersection</td>\n",
       "      <td>34679.0</td>\n",
       "      <td>...</td>\n",
       "      <td>Dry</td>\n",
       "      <td>Daylight</td>\n",
       "      <td>NaN</td>\n",
       "      <td>6079001.0</td>\n",
       "      <td>NaN</td>\n",
       "      <td>10</td>\n",
       "      <td>Entering at angle</td>\n",
       "      <td>0</td>\n",
       "      <td>0</td>\n",
       "      <td>N</td>\n",
       "    </tr>\n",
       "  </tbody>\n",
       "</table>\n",
       "<p>10 rows × 38 columns</p>\n",
       "</div>"
      ],
      "text/plain": [
       "   SEVERITYCODE           X          Y  OBJECTID  INCKEY  COLDETKEY REPORTNO  \\\n",
       "0             2 -122.323148  47.703140         1    1307       1307  3502005   \n",
       "1             1 -122.347294  47.647172         2   52200      52200  2607959   \n",
       "2             1 -122.334540  47.607871         3   26700      26700  1482393   \n",
       "3             1 -122.334803  47.604803         4    1144       1144  3503937   \n",
       "4             2 -122.306426  47.545739         5   17700      17700  1807429   \n",
       "5             1 -122.387598  47.690575         6  320840     322340  E919477   \n",
       "6             1 -122.338485  47.618534         7   83300      83300  3282542   \n",
       "7             2 -122.320780  47.614076         9  330897     332397  EA30304   \n",
       "8             1 -122.335930  47.611904        10   63400      63400  2071243   \n",
       "9             2 -122.384700  47.528475        12   58600      58600  2072105   \n",
       "\n",
       "    STATUS      ADDRTYPE   INTKEY  ... ROADCOND                LIGHTCOND  \\\n",
       "0  Matched  Intersection  37475.0  ...      Wet                 Daylight   \n",
       "1  Matched         Block      NaN  ...      Wet  Dark - Street Lights On   \n",
       "2  Matched         Block      NaN  ...      Dry                 Daylight   \n",
       "3  Matched         Block      NaN  ...      Dry                 Daylight   \n",
       "4  Matched  Intersection  34387.0  ...      Wet                 Daylight   \n",
       "5  Matched  Intersection  36974.0  ...      Dry                 Daylight   \n",
       "6  Matched  Intersection  29510.0  ...      Wet                 Daylight   \n",
       "7  Matched  Intersection  29745.0  ...      Dry                 Daylight   \n",
       "8  Matched         Block      NaN  ...      Dry                 Daylight   \n",
       "9  Matched  Intersection  34679.0  ...      Dry                 Daylight   \n",
       "\n",
       "  PEDROWNOTGRNT  SDOTCOLNUM SPEEDING ST_COLCODE  \\\n",
       "0           NaN         NaN      NaN         10   \n",
       "1           NaN   6354039.0      NaN         11   \n",
       "2           NaN   4323031.0      NaN         32   \n",
       "3           NaN         NaN      NaN         23   \n",
       "4           NaN   4028032.0      NaN         10   \n",
       "5           NaN         NaN      NaN         10   \n",
       "6           NaN   8344002.0      NaN         10   \n",
       "7           NaN         NaN      NaN          5   \n",
       "8           NaN   6166014.0      NaN         32   \n",
       "9           NaN   6079001.0      NaN         10   \n",
       "\n",
       "                                          ST_COLDESC  SEGLANEKEY  \\\n",
       "0                                  Entering at angle           0   \n",
       "1  From same direction - both going straight - bo...           0   \n",
       "2                             One parked--one moving           0   \n",
       "3                   From same direction - all others           0   \n",
       "4                                  Entering at angle           0   \n",
       "5                                  Entering at angle           0   \n",
       "6                                  Entering at angle           0   \n",
       "7                       Vehicle Strikes Pedalcyclist        6855   \n",
       "8                             One parked--one moving           0   \n",
       "9                                  Entering at angle           0   \n",
       "\n",
       "   CROSSWALKKEY  HITPARKEDCAR  \n",
       "0             0             N  \n",
       "1             0             N  \n",
       "2             0             N  \n",
       "3             0             N  \n",
       "4             0             N  \n",
       "5             0             N  \n",
       "6             0             N  \n",
       "7             0             N  \n",
       "8             0             N  \n",
       "9             0             N  \n",
       "\n",
       "[10 rows x 38 columns]"
      ]
     },
     "execution_count": 5,
     "metadata": {},
     "output_type": "execute_result"
    }
   ],
   "source": [
    "df.head(10)"
   ]
  },
  {
   "cell_type": "code",
   "execution_count": 6,
   "metadata": {
    "scrolled": true
   },
   "outputs": [
    {
     "data": {
      "text/plain": [
       "Index(['SEVERITYCODE', 'X', 'Y', 'OBJECTID', 'INCKEY', 'COLDETKEY', 'REPORTNO',\n",
       "       'STATUS', 'ADDRTYPE', 'INTKEY', 'LOCATION', 'EXCEPTRSNCODE',\n",
       "       'EXCEPTRSNDESC', 'SEVERITYCODE.1', 'SEVERITYDESC', 'COLLISIONTYPE',\n",
       "       'PERSONCOUNT', 'PEDCOUNT', 'PEDCYLCOUNT', 'VEHCOUNT', 'INCDATE',\n",
       "       'INCDTTM', 'JUNCTIONTYPE', 'SDOT_COLCODE', 'SDOT_COLDESC',\n",
       "       'INATTENTIONIND', 'UNDERINFL', 'WEATHER', 'ROADCOND', 'LIGHTCOND',\n",
       "       'PEDROWNOTGRNT', 'SDOTCOLNUM', 'SPEEDING', 'ST_COLCODE', 'ST_COLDESC',\n",
       "       'SEGLANEKEY', 'CROSSWALKKEY', 'HITPARKEDCAR'],\n",
       "      dtype='object')"
      ]
     },
     "execution_count": 6,
     "metadata": {},
     "output_type": "execute_result"
    }
   ],
   "source": [
    "df.columns"
   ]
  },
  {
   "cell_type": "markdown",
   "metadata": {},
   "source": [
    "## Feature Engineering"
   ]
  },
  {
   "cell_type": "markdown",
   "metadata": {},
   "source": [
    "The Dataset Set contains several features that do not contribute to the Prediction.\n",
    "1.OBJECTID\n",
    "2.INCKEY\n",
    "3.COLDETKEY\n",
    "4.REPORTNO\n",
    "5.EXCEPTRSNCODE\n",
    "6.EXCEPTRSNDESC\n",
    "7.SEVERITYCODE.1(Redundant Column)\n",
    "8.SEVERITYDESC\n",
    "9.INCDATE\n",
    "10.INCDTTM\n",
    "11.JUNCTIONTYPE\n",
    "12.SDOT_COLCODE\n",
    "13.SDOT_COLDESC\n",
    "14.INATTENTIONIND\n",
    "15.PEDROWNOTGRNT\n",
    "16.SDOTCOLNUM\n",
    "17.SPEEDING\n",
    "18.ST_COLCODE\n",
    "19.ST_COLDESC\n",
    "20.SEGLANEKEY\n",
    "21.CROSSWALKKEY\n",
    "\n",
    "most of the features not null or are unique identifiers"
   ]
  },
  {
   "cell_type": "code",
   "execution_count": 8,
   "metadata": {},
   "outputs": [
    {
     "data": {
      "text/plain": [
       "SEVERITYCODE           0\n",
       "X                   5334\n",
       "Y                   5334\n",
       "OBJECTID               0\n",
       "INCKEY                 0\n",
       "COLDETKEY              0\n",
       "REPORTNO               0\n",
       "STATUS                 0\n",
       "ADDRTYPE            1926\n",
       "INTKEY            129603\n",
       "LOCATION            2677\n",
       "EXCEPTRSNCODE     109862\n",
       "EXCEPTRSNDESC     189035\n",
       "SEVERITYCODE.1         0\n",
       "SEVERITYDESC           0\n",
       "COLLISIONTYPE       4904\n",
       "PERSONCOUNT            0\n",
       "PEDCOUNT               0\n",
       "PEDCYLCOUNT            0\n",
       "VEHCOUNT               0\n",
       "INCDATE                0\n",
       "INCDTTM                0\n",
       "JUNCTIONTYPE        6329\n",
       "SDOT_COLCODE           0\n",
       "SDOT_COLDESC           0\n",
       "INATTENTIONIND    164868\n",
       "UNDERINFL           4884\n",
       "WEATHER             5081\n",
       "ROADCOND            5012\n",
       "LIGHTCOND           5170\n",
       "PEDROWNOTGRNT     190006\n",
       "SDOTCOLNUM         79737\n",
       "SPEEDING          185340\n",
       "ST_COLCODE            18\n",
       "ST_COLDESC          4904\n",
       "SEGLANEKEY             0\n",
       "CROSSWALKKEY           0\n",
       "HITPARKEDCAR           0\n",
       "dtype: int64"
      ]
     },
     "execution_count": 8,
     "metadata": {},
     "output_type": "execute_result"
    }
   ],
   "source": [
    "df.isnull().sum()"
   ]
  },
  {
   "cell_type": "markdown",
   "metadata": {},
   "source": [
    "## Data Wrangling"
   ]
  },
  {
   "cell_type": "markdown",
   "metadata": {},
   "source": [
    "lets drop all the unnecessary columns from the dataset"
   ]
  },
  {
   "cell_type": "code",
   "execution_count": 10,
   "metadata": {},
   "outputs": [],
   "source": [
    "ll = ['OBJECTID','INCKEY','COLDETKEY','REPORTNO','EXCEPTRSNCODE',\n",
    "      'STATUS','INTKEY','LOCATION','EXCEPTRSNDESC','INCDATE','INCDTTM','INATTENTIONIND','PEDROWNOTGRNT','SPEEDING','CROSSWALKKEY',\n",
    "     'SEVERITYCODE.1','SEVERITYDESC','SDOTCOLNUM','SEGLANEKEY','ST_COLCODE', 'ST_COLDESC','SDOT_COLCODE',]"
   ]
  },
  {
   "cell_type": "code",
   "execution_count": 11,
   "metadata": {},
   "outputs": [],
   "source": [
    "df.drop(columns=ll,axis=0,inplace=True)"
   ]
  },
  {
   "cell_type": "code",
   "execution_count": 12,
   "metadata": {},
   "outputs": [
    {
     "data": {
      "text/plain": [
       "Index(['SEVERITYCODE', 'X', 'Y', 'ADDRTYPE', 'COLLISIONTYPE', 'PERSONCOUNT',\n",
       "       'PEDCOUNT', 'PEDCYLCOUNT', 'VEHCOUNT', 'JUNCTIONTYPE', 'SDOT_COLDESC',\n",
       "       'UNDERINFL', 'WEATHER', 'ROADCOND', 'LIGHTCOND', 'HITPARKEDCAR'],\n",
       "      dtype='object')"
      ]
     },
     "execution_count": 12,
     "metadata": {},
     "output_type": "execute_result"
    }
   ],
   "source": [
    "df.columns"
   ]
  },
  {
   "cell_type": "markdown",
   "metadata": {},
   "source": [
    "Make sure all the features are of the appropriate Datatype"
   ]
  },
  {
   "cell_type": "code",
   "execution_count": 14,
   "metadata": {},
   "outputs": [
    {
     "data": {
      "text/plain": [
       "SEVERITYCODE       int64\n",
       "X                float64\n",
       "Y                float64\n",
       "ADDRTYPE          object\n",
       "COLLISIONTYPE     object\n",
       "PERSONCOUNT        int64\n",
       "PEDCOUNT           int64\n",
       "PEDCYLCOUNT        int64\n",
       "VEHCOUNT           int64\n",
       "JUNCTIONTYPE      object\n",
       "SDOT_COLDESC      object\n",
       "UNDERINFL         object\n",
       "WEATHER           object\n",
       "ROADCOND          object\n",
       "LIGHTCOND         object\n",
       "HITPARKEDCAR      object\n",
       "dtype: object"
      ]
     },
     "execution_count": 14,
     "metadata": {},
     "output_type": "execute_result"
    }
   ],
   "source": [
    "df.dtypes"
   ]
  },
  {
   "cell_type": "markdown",
   "metadata": {},
   "source": [
    "In the colomn UNDERINFL contains Y,N,0,1\n",
    "Make them uniform by assigning 0 to N and 1 to Y"
   ]
  },
  {
   "cell_type": "code",
   "execution_count": 15,
   "metadata": {},
   "outputs": [],
   "source": [
    "df['UNDERINFL'].replace(\"0\",'N',inplace=True)\n",
    "df['UNDERINFL'].replace(\"1\",'Y',inplace=True)"
   ]
  },
  {
   "cell_type": "markdown",
   "metadata": {},
   "source": [
    "vc() displays all the categoriacal and value counts of distict values of all columns"
   ]
  },
  {
   "cell_type": "code",
   "execution_count": 17,
   "metadata": {},
   "outputs": [
    {
     "data": {
      "text/plain": [
       "['SEVERITYCODE',\n",
       " 'X',\n",
       " 'Y',\n",
       " 'ADDRTYPE',\n",
       " 'COLLISIONTYPE',\n",
       " 'PERSONCOUNT',\n",
       " 'PEDCOUNT',\n",
       " 'PEDCYLCOUNT',\n",
       " 'VEHCOUNT',\n",
       " 'JUNCTIONTYPE',\n",
       " 'SDOT_COLDESC',\n",
       " 'UNDERINFL',\n",
       " 'WEATHER',\n",
       " 'ROADCOND',\n",
       " 'LIGHTCOND',\n",
       " 'HITPARKEDCAR']"
      ]
     },
     "execution_count": 17,
     "metadata": {},
     "output_type": "execute_result"
    }
   ],
   "source": [
    "col = df.columns.tolist()\n",
    "col"
   ]
  },
  {
   "cell_type": "code",
   "execution_count": 35,
   "metadata": {},
   "outputs": [],
   "source": [
    "def vc():\n",
    "    for c in col:\n",
    "        print(df[c].value_counts())\n",
    "        print()"
   ]
  },
  {
   "cell_type": "code",
   "execution_count": 36,
   "metadata": {},
   "outputs": [
    {
     "name": "stdout",
     "output_type": "stream",
     "text": [
      "1    132221\n",
      "2     57118\n",
      "Name: SEVERITYCODE, dtype: int64\n",
      "\n",
      "-122.332653    265\n",
      "-122.344896    254\n",
      "-122.328079    252\n",
      "-122.344997    239\n",
      "-122.299160    231\n",
      "              ... \n",
      "-122.322768      1\n",
      "-122.288680      1\n",
      "-122.405699      1\n",
      "-122.323578      1\n",
      "-122.343898      1\n",
      "Name: X, Length: 23563, dtype: int64\n",
      "\n",
      "47.708655    265\n",
      "47.717173    254\n",
      "47.604161    252\n",
      "47.725036    239\n",
      "47.579673    231\n",
      "            ... \n",
      "47.556705      1\n",
      "47.709101      1\n",
      "47.513899      1\n",
      "47.565438      1\n",
      "47.563521      1\n",
      "Name: Y, Length: 23839, dtype: int64\n",
      "\n",
      "Block           124591\n",
      "Intersection     64748\n",
      "Name: ADDRTYPE, dtype: int64\n",
      "\n",
      "Parked Car    51138\n",
      "Angles        34460\n",
      "Rear Ended    32968\n",
      "Other         22277\n",
      "Sideswipe     18034\n",
      "Left Turn     13624\n",
      "Pedestrian     6551\n",
      "Cycles         5378\n",
      "Right Turn     2912\n",
      "Head On        1997\n",
      "Name: COLLISIONTYPE, dtype: int64\n",
      "\n",
      "2     110986\n",
      "3      34964\n",
      "4      14435\n",
      "1      12191\n",
      "5       6473\n",
      "0       5442\n",
      "6       2659\n",
      "7       1101\n",
      "8        523\n",
      "9        208\n",
      "10       128\n",
      "11        54\n",
      "12        32\n",
      "13        21\n",
      "14        17\n",
      "15        11\n",
      "17        11\n",
      "16         7\n",
      "18         6\n",
      "44         6\n",
      "19         5\n",
      "20         5\n",
      "25         5\n",
      "26         4\n",
      "22         4\n",
      "27         3\n",
      "28         3\n",
      "29         3\n",
      "47         3\n",
      "32         3\n",
      "34         3\n",
      "37         3\n",
      "23         2\n",
      "21         2\n",
      "24         2\n",
      "30         2\n",
      "36         2\n",
      "57         1\n",
      "31         1\n",
      "35         1\n",
      "39         1\n",
      "41         1\n",
      "43         1\n",
      "48         1\n",
      "53         1\n",
      "54         1\n",
      "81         1\n",
      "Name: PERSONCOUNT, dtype: int64\n",
      "\n",
      "0    182460\n",
      "1      6626\n",
      "2       225\n",
      "3        22\n",
      "4         4\n",
      "6         1\n",
      "5         1\n",
      "Name: PEDCOUNT, dtype: int64\n",
      "\n",
      "0    183892\n",
      "1      5404\n",
      "2        43\n",
      "Name: PEDCYLCOUNT, dtype: int64\n",
      "\n",
      "2     143994\n",
      "1      24557\n",
      "3      12731\n",
      "0       4937\n",
      "4       2381\n",
      "5        520\n",
      "6        145\n",
      "7         42\n",
      "8         15\n",
      "9          9\n",
      "11         5\n",
      "10         2\n",
      "12         1\n",
      "Name: VEHCOUNT, dtype: int64\n",
      "\n",
      "Mid-Block (not related to intersection)              91583\n",
      "At Intersection (intersection related)               62491\n",
      "Mid-Block (but intersection related)                 22465\n",
      "Driveway Junction                                    10580\n",
      "At Intersection (but not related to intersection)     2071\n",
      "Ramp Junction                                          143\n",
      "Unknown                                                  6\n",
      "Name: JUNCTIONTYPE, dtype: int64\n",
      "\n",
      "MOTOR VEHICLE STRUCK MOTOR VEHICLE, FRONT END AT ANGLE          84538\n",
      "MOTOR VEHICLE STRUCK MOTOR VEHICLE, REAR END                    53213\n",
      "MOTOR VEHICLE STRUCK MOTOR VEHICLE, LEFT SIDE SIDESWIPE          9780\n",
      "MOTOR VEHICLE RAN OFF ROAD - HIT FIXED OBJECT                    8631\n",
      "NOT ENOUGH INFORMATION / NOT APPLICABLE                          7401\n",
      "MOTOR VEHCILE STRUCK PEDESTRIAN                                  6485\n",
      "MOTOR VEHICLE STRUCK MOTOR VEHICLE, LEFT SIDE AT ANGLE           5780\n",
      "MOTOR VEHICLE STRUCK OBJECT IN ROAD                              4102\n",
      "MOTOR VEHICLE STRUCK PEDALCYCLIST, FRONT END AT ANGLE            3091\n",
      "MOTOR VEHICLE STRUCK MOTOR VEHICLE, RIGHT SIDE SIDESWIPE         1597\n",
      "MOTOR VEHICLE STRUCK MOTOR VEHICLE, RIGHT SIDE AT ANGLE          1422\n",
      "PEDALCYCLIST STRUCK MOTOR VEHICLE FRONT END AT ANGLE             1305\n",
      "MOTOR VEHICLE OVERTURNED IN ROAD                                  463\n",
      "MOTOR VEHICLE STRUCK PEDALCYCLIST, REAR END                       181\n",
      "PEDALCYCLIST STRUCK MOTOR VEHICLE LEFT SIDE SIDESWIPE             178\n",
      "MOTOR VEHICLE RAN OFF ROAD - NO COLLISION                         165\n",
      "PEDALCYCLIST STRUCK MOTOR VEHICLE REAR END                        137\n",
      "MOTOR VEHICLE STRUCK PEDALCYCLIST, LEFT SIDE SIDESWIPE            122\n",
      "DRIVERLESS VEHICLE RAN OFF ROAD - HIT FIXED OBJECT                106\n",
      "DRIVERLESS VEHICLE STRUCK MOTOR VEHICLE FRONT END AT ANGLE        102\n",
      "MOTOR VEHICLE STRUCK TRAIN                                        102\n",
      "DRIVERLESS VEHICLE STRUCK MOTOR VEHICLE REAR END                   91\n",
      "PEDALCYCLIST STRUCK PEDESTRIAN                                     75\n",
      "PEDALCYCLIST OVERTURNED IN ROAD                                    69\n",
      "DRIVERLESS VEHICLE STRUCK MOTOR VEHICLE LEFT SIDE AT ANGLE         53\n",
      "PEDALCYCLIST STRUCK MOTOR VEHICLE RIGHT SIDE SIDESWIPE             50\n",
      "PEDALCYCLIST STRUCK OBJECT IN ROAD                                 23\n",
      "MOTOR VEHICLE STRUCK PEDALCYCLIST, RIGHT SIDE SIDESWIPE            16\n",
      "DRIVERLESS VEHICLE STRUCK MOTOR VEHICLE RIGHT SIDE AT ANGLE        12\n",
      "PEDALCYCLIST STRUCK MOTOR VEHICLE LEFT SIDE AT ANGLE                9\n",
      "DRIVERLESS VEHICLE STRUCK PEDESTRIAN                                8\n",
      "PEDALCYCLIST STRUCK PEDALCYCLIST REAR END                           7\n",
      "DRIVERLESS VEHICLE STRUCK MOTOR VEHICLE RIGHT SIDE SIDESWIPE        6\n",
      "PEDALCYCLIST STRUCK PEDALCYCLIST FRONT END AT ANGLE                 5\n",
      "PEDALCYCLIST RAN OFF ROAD - HIT FIXED OBJECT                        4\n",
      "DRIVERLESS VEHICLE STRUCK MOTOR VEHICLE LEFT SIDE SIDESWIPE         4\n",
      "DRIVERLESS VEHICLE STRUCK OBJECT IN ROADWAY                         3\n",
      "PEDALCYCLIST STRUCK MOTOR VEHICLE RIGHT SIDE AT ANGLE               2\n",
      "DRIVERLESS VEHICLE RAN OFF ROAD - NO COLLISION                      1\n",
      "Name: SDOT_COLDESC, dtype: int64\n",
      "\n",
      "N    180458\n",
      "Y      8881\n",
      "Name: UNDERINFL, dtype: int64\n",
      "\n",
      "Clear                       113884\n",
      "Raining                      32015\n",
      "Overcast                     27136\n",
      "Unknown                      13893\n",
      "Snowing                        894\n",
      "Other                          773\n",
      "Fog/Smog/Smoke                 553\n",
      "Sleet/Hail/Freezing Rain       112\n",
      "Blowing Sand/Dirt               50\n",
      "Severe Crosswind                24\n",
      "Partly Cloudy                    5\n",
      "Name: WEATHER, dtype: int64\n",
      "\n",
      "Dry               126934\n",
      "Wet                46064\n",
      "Unknown            13839\n",
      "Ice                 1177\n",
      "Snow/Slush           989\n",
      "Other                117\n",
      "Standing Water       102\n",
      "Sand/Mud/Dirt         64\n",
      "Oil                   53\n",
      "Name: ROADCOND, dtype: int64\n",
      "\n",
      "Daylight                    118594\n",
      "Dark - Street Lights On      47314\n",
      "Unknown                      12432\n",
      "Dusk                          5775\n",
      "Dawn                          2422\n",
      "Dark - No Street Lights       1451\n",
      "Dark - Street Lights Off      1152\n",
      "Other                          188\n",
      "Dark - Unknown Lighting         11\n",
      "Name: LIGHTCOND, dtype: int64\n",
      "\n",
      "N    182334\n",
      "Y      7005\n",
      "Name: HITPARKEDCAR, dtype: int64\n",
      "\n"
     ]
    }
   ],
   "source": [
    "vc()"
   ]
  },
  {
   "cell_type": "code",
   "execution_count": 25,
   "metadata": {},
   "outputs": [
    {
     "data": {
      "text/plain": [
       "SEVERITYCODE        0\n",
       "X                5334\n",
       "Y                5334\n",
       "ADDRTYPE         1926\n",
       "COLLISIONTYPE    4904\n",
       "PERSONCOUNT         0\n",
       "PEDCOUNT            0\n",
       "PEDCYLCOUNT         0\n",
       "VEHCOUNT            0\n",
       "JUNCTIONTYPE     6329\n",
       "SDOT_COLDESC        0\n",
       "UNDERINFL        4884\n",
       "WEATHER          5081\n",
       "ROADCOND         5012\n",
       "LIGHTCOND        5170\n",
       "HITPARKEDCAR        0\n",
       "dtype: int64"
      ]
     },
     "execution_count": 25,
     "metadata": {},
     "output_type": "execute_result"
    }
   ],
   "source": [
    "df.isnull().sum()"
   ]
  },
  {
   "cell_type": "markdown",
   "metadata": {},
   "source": [
    "Drop the null values of coordinates as we cannot approximate a location preciesly"
   ]
  },
  {
   "cell_type": "code",
   "execution_count": 29,
   "metadata": {},
   "outputs": [],
   "source": [
    "df.dropna(subset=['X','Y'],inplace=True)"
   ]
  },
  {
   "cell_type": "markdown",
   "metadata": {},
   "source": [
    "replace nan values of categorical values with mode"
   ]
  },
  {
   "cell_type": "code",
   "execution_count": 30,
   "metadata": {},
   "outputs": [],
   "source": [
    "df['COLLISIONTYPE'].replace(np.nan,df['COLLISIONTYPE'].mode()[0],inplace=True)\n",
    "df['JUNCTIONTYPE'].replace(np.nan,df['JUNCTIONTYPE'].mode()[0],inplace=True)\n",
    "df['UNDERINFL'].replace(np.nan,df['UNDERINFL'].mode()[0],inplace=True)\n",
    "df['WEATHER'].replace(np.nan,df['WEATHER'].mode()[0],inplace=True)\n",
    "df['ROADCOND'].replace(np.nan,df['ROADCOND'].mode()[0],inplace=True)\n",
    "df['LIGHTCOND'].replace(np.nan,df['LIGHTCOND'].mode()[0],inplace=True)"
   ]
  },
  {
   "cell_type": "code",
   "execution_count": 31,
   "metadata": {},
   "outputs": [
    {
     "data": {
      "text/plain": [
       "SEVERITYCODE     0\n",
       "X                0\n",
       "Y                0\n",
       "ADDRTYPE         0\n",
       "COLLISIONTYPE    0\n",
       "PERSONCOUNT      0\n",
       "PEDCOUNT         0\n",
       "PEDCYLCOUNT      0\n",
       "VEHCOUNT         0\n",
       "JUNCTIONTYPE     0\n",
       "SDOT_COLDESC     0\n",
       "UNDERINFL        0\n",
       "WEATHER          0\n",
       "ROADCOND         0\n",
       "LIGHTCOND        0\n",
       "HITPARKEDCAR     0\n",
       "dtype: int64"
      ]
     },
     "execution_count": 31,
     "metadata": {},
     "output_type": "execute_result"
    }
   ],
   "source": [
    "df.isnull().sum()"
   ]
  },
  {
   "cell_type": "markdown",
   "metadata": {},
   "source": [
    "# Exploratory Data Analysis"
   ]
  },
  {
   "cell_type": "markdown",
   "metadata": {},
   "source": [
    "Statistics of Numeriacal Data"
   ]
  },
  {
   "cell_type": "code",
   "execution_count": 32,
   "metadata": {},
   "outputs": [
    {
     "data": {
      "text/html": [
       "<div>\n",
       "<style scoped>\n",
       "    .dataframe tbody tr th:only-of-type {\n",
       "        vertical-align: middle;\n",
       "    }\n",
       "\n",
       "    .dataframe tbody tr th {\n",
       "        vertical-align: top;\n",
       "    }\n",
       "\n",
       "    .dataframe thead th {\n",
       "        text-align: right;\n",
       "    }\n",
       "</style>\n",
       "<table border=\"1\" class=\"dataframe\">\n",
       "  <thead>\n",
       "    <tr style=\"text-align: right;\">\n",
       "      <th></th>\n",
       "      <th>SEVERITYCODE</th>\n",
       "      <th>X</th>\n",
       "      <th>Y</th>\n",
       "      <th>PERSONCOUNT</th>\n",
       "      <th>PEDCOUNT</th>\n",
       "      <th>PEDCYLCOUNT</th>\n",
       "      <th>VEHCOUNT</th>\n",
       "    </tr>\n",
       "  </thead>\n",
       "  <tbody>\n",
       "    <tr>\n",
       "      <th>count</th>\n",
       "      <td>189339.000000</td>\n",
       "      <td>189339.000000</td>\n",
       "      <td>189339.000000</td>\n",
       "      <td>189339.000000</td>\n",
       "      <td>189339.000000</td>\n",
       "      <td>189339.000000</td>\n",
       "      <td>189339.000000</td>\n",
       "    </tr>\n",
       "    <tr>\n",
       "      <th>mean</th>\n",
       "      <td>1.301671</td>\n",
       "      <td>-122.330518</td>\n",
       "      <td>47.619543</td>\n",
       "      <td>2.452986</td>\n",
       "      <td>0.037863</td>\n",
       "      <td>0.028996</td>\n",
       "      <td>1.924136</td>\n",
       "    </tr>\n",
       "    <tr>\n",
       "      <th>std</th>\n",
       "      <td>0.458984</td>\n",
       "      <td>0.029976</td>\n",
       "      <td>0.056157</td>\n",
       "      <td>1.349092</td>\n",
       "      <td>0.200053</td>\n",
       "      <td>0.169143</td>\n",
       "      <td>0.629941</td>\n",
       "    </tr>\n",
       "    <tr>\n",
       "      <th>min</th>\n",
       "      <td>1.000000</td>\n",
       "      <td>-122.419091</td>\n",
       "      <td>47.495573</td>\n",
       "      <td>0.000000</td>\n",
       "      <td>0.000000</td>\n",
       "      <td>0.000000</td>\n",
       "      <td>0.000000</td>\n",
       "    </tr>\n",
       "    <tr>\n",
       "      <th>25%</th>\n",
       "      <td>1.000000</td>\n",
       "      <td>-122.348673</td>\n",
       "      <td>47.575956</td>\n",
       "      <td>2.000000</td>\n",
       "      <td>0.000000</td>\n",
       "      <td>0.000000</td>\n",
       "      <td>2.000000</td>\n",
       "    </tr>\n",
       "    <tr>\n",
       "      <th>50%</th>\n",
       "      <td>1.000000</td>\n",
       "      <td>-122.330224</td>\n",
       "      <td>47.615369</td>\n",
       "      <td>2.000000</td>\n",
       "      <td>0.000000</td>\n",
       "      <td>0.000000</td>\n",
       "      <td>2.000000</td>\n",
       "    </tr>\n",
       "    <tr>\n",
       "      <th>75%</th>\n",
       "      <td>2.000000</td>\n",
       "      <td>-122.311937</td>\n",
       "      <td>47.663664</td>\n",
       "      <td>3.000000</td>\n",
       "      <td>0.000000</td>\n",
       "      <td>0.000000</td>\n",
       "      <td>2.000000</td>\n",
       "    </tr>\n",
       "    <tr>\n",
       "      <th>max</th>\n",
       "      <td>2.000000</td>\n",
       "      <td>-122.238949</td>\n",
       "      <td>47.734142</td>\n",
       "      <td>81.000000</td>\n",
       "      <td>6.000000</td>\n",
       "      <td>2.000000</td>\n",
       "      <td>12.000000</td>\n",
       "    </tr>\n",
       "  </tbody>\n",
       "</table>\n",
       "</div>"
      ],
      "text/plain": [
       "        SEVERITYCODE              X              Y    PERSONCOUNT  \\\n",
       "count  189339.000000  189339.000000  189339.000000  189339.000000   \n",
       "mean        1.301671    -122.330518      47.619543       2.452986   \n",
       "std         0.458984       0.029976       0.056157       1.349092   \n",
       "min         1.000000    -122.419091      47.495573       0.000000   \n",
       "25%         1.000000    -122.348673      47.575956       2.000000   \n",
       "50%         1.000000    -122.330224      47.615369       2.000000   \n",
       "75%         2.000000    -122.311937      47.663664       3.000000   \n",
       "max         2.000000    -122.238949      47.734142      81.000000   \n",
       "\n",
       "            PEDCOUNT    PEDCYLCOUNT       VEHCOUNT  \n",
       "count  189339.000000  189339.000000  189339.000000  \n",
       "mean        0.037863       0.028996       1.924136  \n",
       "std         0.200053       0.169143       0.629941  \n",
       "min         0.000000       0.000000       0.000000  \n",
       "25%         0.000000       0.000000       2.000000  \n",
       "50%         0.000000       0.000000       2.000000  \n",
       "75%         0.000000       0.000000       2.000000  \n",
       "max         6.000000       2.000000      12.000000  "
      ]
     },
     "execution_count": 32,
     "metadata": {},
     "output_type": "execute_result"
    }
   ],
   "source": [
    "df.describe()"
   ]
  },
  {
   "cell_type": "code",
   "execution_count": 37,
   "metadata": {},
   "outputs": [
    {
     "data": {
      "text/html": [
       "<div>\n",
       "<style scoped>\n",
       "    .dataframe tbody tr th:only-of-type {\n",
       "        vertical-align: middle;\n",
       "    }\n",
       "\n",
       "    .dataframe tbody tr th {\n",
       "        vertical-align: top;\n",
       "    }\n",
       "\n",
       "    .dataframe thead th {\n",
       "        text-align: right;\n",
       "    }\n",
       "</style>\n",
       "<table border=\"1\" class=\"dataframe\">\n",
       "  <thead>\n",
       "    <tr style=\"text-align: right;\">\n",
       "      <th></th>\n",
       "      <th>SEVERITYCODE</th>\n",
       "      <th>X</th>\n",
       "      <th>Y</th>\n",
       "      <th>PERSONCOUNT</th>\n",
       "      <th>PEDCOUNT</th>\n",
       "      <th>PEDCYLCOUNT</th>\n",
       "      <th>VEHCOUNT</th>\n",
       "    </tr>\n",
       "  </thead>\n",
       "  <tbody>\n",
       "    <tr>\n",
       "      <th>SEVERITYCODE</th>\n",
       "      <td>1.000000</td>\n",
       "      <td>0.010309</td>\n",
       "      <td>0.017737</td>\n",
       "      <td>0.128866</td>\n",
       "      <td>0.246722</td>\n",
       "      <td>0.214969</td>\n",
       "      <td>-0.058067</td>\n",
       "    </tr>\n",
       "    <tr>\n",
       "      <th>X</th>\n",
       "      <td>0.010309</td>\n",
       "      <td>1.000000</td>\n",
       "      <td>-0.160262</td>\n",
       "      <td>0.012887</td>\n",
       "      <td>0.011304</td>\n",
       "      <td>-0.001752</td>\n",
       "      <td>-0.012168</td>\n",
       "    </tr>\n",
       "    <tr>\n",
       "      <th>Y</th>\n",
       "      <td>0.017737</td>\n",
       "      <td>-0.160262</td>\n",
       "      <td>1.000000</td>\n",
       "      <td>-0.013850</td>\n",
       "      <td>0.010178</td>\n",
       "      <td>0.026304</td>\n",
       "      <td>0.017058</td>\n",
       "    </tr>\n",
       "    <tr>\n",
       "      <th>PERSONCOUNT</th>\n",
       "      <td>0.128866</td>\n",
       "      <td>0.012887</td>\n",
       "      <td>-0.013850</td>\n",
       "      <td>1.000000</td>\n",
       "      <td>-0.024764</td>\n",
       "      <td>-0.040317</td>\n",
       "      <td>0.375640</td>\n",
       "    </tr>\n",
       "    <tr>\n",
       "      <th>PEDCOUNT</th>\n",
       "      <td>0.246722</td>\n",
       "      <td>0.011304</td>\n",
       "      <td>0.010178</td>\n",
       "      <td>-0.024764</td>\n",
       "      <td>1.000000</td>\n",
       "      <td>-0.017461</td>\n",
       "      <td>-0.265337</td>\n",
       "    </tr>\n",
       "    <tr>\n",
       "      <th>PEDCYLCOUNT</th>\n",
       "      <td>0.214969</td>\n",
       "      <td>-0.001752</td>\n",
       "      <td>0.026304</td>\n",
       "      <td>-0.040317</td>\n",
       "      <td>-0.017461</td>\n",
       "      <td>1.000000</td>\n",
       "      <td>-0.257882</td>\n",
       "    </tr>\n",
       "    <tr>\n",
       "      <th>VEHCOUNT</th>\n",
       "      <td>-0.058067</td>\n",
       "      <td>-0.012168</td>\n",
       "      <td>0.017058</td>\n",
       "      <td>0.375640</td>\n",
       "      <td>-0.265337</td>\n",
       "      <td>-0.257882</td>\n",
       "      <td>1.000000</td>\n",
       "    </tr>\n",
       "  </tbody>\n",
       "</table>\n",
       "</div>"
      ],
      "text/plain": [
       "              SEVERITYCODE         X         Y  PERSONCOUNT  PEDCOUNT  \\\n",
       "SEVERITYCODE      1.000000  0.010309  0.017737     0.128866  0.246722   \n",
       "X                 0.010309  1.000000 -0.160262     0.012887  0.011304   \n",
       "Y                 0.017737 -0.160262  1.000000    -0.013850  0.010178   \n",
       "PERSONCOUNT       0.128866  0.012887 -0.013850     1.000000 -0.024764   \n",
       "PEDCOUNT          0.246722  0.011304  0.010178    -0.024764  1.000000   \n",
       "PEDCYLCOUNT       0.214969 -0.001752  0.026304    -0.040317 -0.017461   \n",
       "VEHCOUNT         -0.058067 -0.012168  0.017058     0.375640 -0.265337   \n",
       "\n",
       "              PEDCYLCOUNT  VEHCOUNT  \n",
       "SEVERITYCODE     0.214969 -0.058067  \n",
       "X               -0.001752 -0.012168  \n",
       "Y                0.026304  0.017058  \n",
       "PERSONCOUNT     -0.040317  0.375640  \n",
       "PEDCOUNT        -0.017461 -0.265337  \n",
       "PEDCYLCOUNT      1.000000 -0.257882  \n",
       "VEHCOUNT        -0.257882  1.000000  "
      ]
     },
     "execution_count": 37,
     "metadata": {},
     "output_type": "execute_result"
    }
   ],
   "source": [
    "df.corr()"
   ]
  },
  {
   "cell_type": "code",
   "execution_count": 38,
   "metadata": {},
   "outputs": [],
   "source": [
    "%%capture\n",
    "! pip install seaborn"
   ]
  },
  {
   "cell_type": "code",
   "execution_count": 39,
   "metadata": {},
   "outputs": [],
   "source": [
    "import matplotlib.pyplot as plt\n",
    "import seaborn as sns\n",
    "%matplotlib inline "
   ]
  },
  {
   "cell_type": "code",
   "execution_count": 42,
   "metadata": {},
   "outputs": [
    {
     "data": {
      "text/plain": [
       "(0, 2.066694260485651)"
      ]
     },
     "execution_count": 42,
     "metadata": {},
     "output_type": "execute_result"
    },
    {
     "data": {
      "image/png": "[encoded data removed]",
      "text/plain": [
       "<Figure size 432x288 with 1 Axes>"
      ]
     },
     "metadata": {
      "needs_background": "light"
     },
     "output_type": "display_data"
    }
   ],
   "source": [
    "sns.regplot(x=\"X\", y=\"SEVERITYCODE\", data=df)\n",
    "plt.ylim(0,)"
   ]
  },
  {
   "cell_type": "code",
   "execution_count": 48,
   "metadata": {},
   "outputs": [
    {
     "data": {
      "text/plain": [
       "<matplotlib.axes._subplots.AxesSubplot at 0x2320a650548>"
      ]
     },
     "execution_count": 48,
     "metadata": {},
     "output_type": "execute_result"
    },
    {
     "data": {
      "image/png": "[encoded data removed]",
      "text/plain": [
       "<Figure size 432x288 with 1 Axes>"
      ]
     },
     "metadata": {
      "needs_background": "light"
     },
     "output_type": "display_data"
    }
   ],
   "source": [
    "sns.boxplot(x=\"ADDRTYPE\",y='SEVERITYCODE', data=df)"
   ]
  },
  {
   "cell_type": "markdown",
   "metadata": {},
   "source": [
    "we see Most accidents occur at Intersection"
   ]
  },
  {
   "cell_type": "markdown",
   "metadata": {},
   "source": [
    "## Methodology <a name=\"methodology\"></a>"
   ]
  },
  {
   "cell_type": "markdown",
   "metadata": {},
   "source": [
    "Since The Severity Code is either 1 or 2, the Logistic Regression is best suited for this problem,\n",
    "Logistic Regression minimizes the Loss and error by iteratively training on the data\n",
    "It is similar to Deep Learning"
   ]
  },
  {
   "cell_type": "markdown",
   "metadata": {},
   "source": [
    "### One-hot Encoding"
   ]
  },
  {
   "cell_type": "markdown",
   "metadata": {},
   "source": [
    "Converting all the categorical values by using pandas.get_dummies()"
   ]
  },
  {
   "cell_type": "code",
   "execution_count": 50,
   "metadata": {},
   "outputs": [],
   "source": [
    "df2 =  pd.get_dummies(df[['UNDERINFL','ADDRTYPE','COLLISIONTYPE','JUNCTIONTYPE','SDOT_COLDESC','WEATHER','ROADCOND','HITPARKEDCAR']])"
   ]
  },
  {
   "cell_type": "code",
   "execution_count": 51,
   "metadata": {},
   "outputs": [],
   "source": [
    "df = pd.concat([df,df2],axis=1)"
   ]
  },
  {
   "cell_type": "code",
   "execution_count": 57,
   "metadata": {},
   "outputs": [],
   "source": [
    "df = pd.concat([df,pd.get_dummies(df['LIGHTCOND'])],axis=1)"
   ]
  },
  {
   "cell_type": "code",
   "execution_count": 58,
   "metadata": {},
   "outputs": [
    {
     "data": {
      "text/html": [
       "<div>\n",
       "<style scoped>\n",
       "    .dataframe tbody tr th:only-of-type {\n",
       "        vertical-align: middle;\n",
       "    }\n",
       "\n",
       "    .dataframe tbody tr th {\n",
       "        vertical-align: top;\n",
       "    }\n",
       "\n",
       "    .dataframe thead th {\n",
       "        text-align: right;\n",
       "    }\n",
       "</style>\n",
       "<table border=\"1\" class=\"dataframe\">\n",
       "  <thead>\n",
       "    <tr style=\"text-align: right;\">\n",
       "      <th></th>\n",
       "      <th>SEVERITYCODE</th>\n",
       "      <th>X</th>\n",
       "      <th>Y</th>\n",
       "      <th>PERSONCOUNT</th>\n",
       "      <th>PEDCOUNT</th>\n",
       "      <th>PEDCYLCOUNT</th>\n",
       "      <th>VEHCOUNT</th>\n",
       "      <th>LIGHTCOND</th>\n",
       "      <th>UNDERINFL_N</th>\n",
       "      <th>UNDERINFL_Y</th>\n",
       "      <th>...</th>\n",
       "      <th>HITPARKEDCAR_Y</th>\n",
       "      <th>Dark - No Street Lights</th>\n",
       "      <th>Dark - Street Lights Off</th>\n",
       "      <th>Dark - Street Lights On</th>\n",
       "      <th>Dark - Unknown Lighting</th>\n",
       "      <th>Dawn</th>\n",
       "      <th>Daylight</th>\n",
       "      <th>Dusk</th>\n",
       "      <th>Other</th>\n",
       "      <th>Unknown</th>\n",
       "    </tr>\n",
       "  </thead>\n",
       "  <tbody>\n",
       "    <tr>\n",
       "      <th>0</th>\n",
       "      <td>2</td>\n",
       "      <td>-122.323148</td>\n",
       "      <td>47.703140</td>\n",
       "      <td>2</td>\n",
       "      <td>0</td>\n",
       "      <td>0</td>\n",
       "      <td>2</td>\n",
       "      <td>Daylight</td>\n",
       "      <td>1</td>\n",
       "      <td>0</td>\n",
       "      <td>...</td>\n",
       "      <td>0</td>\n",
       "      <td>0</td>\n",
       "      <td>0</td>\n",
       "      <td>0</td>\n",
       "      <td>0</td>\n",
       "      <td>0</td>\n",
       "      <td>1</td>\n",
       "      <td>0</td>\n",
       "      <td>0</td>\n",
       "      <td>0</td>\n",
       "    </tr>\n",
       "    <tr>\n",
       "      <th>1</th>\n",
       "      <td>1</td>\n",
       "      <td>-122.347294</td>\n",
       "      <td>47.647172</td>\n",
       "      <td>2</td>\n",
       "      <td>0</td>\n",
       "      <td>0</td>\n",
       "      <td>2</td>\n",
       "      <td>Dark - Street Lights On</td>\n",
       "      <td>1</td>\n",
       "      <td>0</td>\n",
       "      <td>...</td>\n",
       "      <td>0</td>\n",
       "      <td>0</td>\n",
       "      <td>0</td>\n",
       "      <td>1</td>\n",
       "      <td>0</td>\n",
       "      <td>0</td>\n",
       "      <td>0</td>\n",
       "      <td>0</td>\n",
       "      <td>0</td>\n",
       "      <td>0</td>\n",
       "    </tr>\n",
       "    <tr>\n",
       "      <th>2</th>\n",
       "      <td>1</td>\n",
       "      <td>-122.334540</td>\n",
       "      <td>47.607871</td>\n",
       "      <td>4</td>\n",
       "      <td>0</td>\n",
       "      <td>0</td>\n",
       "      <td>3</td>\n",
       "      <td>Daylight</td>\n",
       "      <td>1</td>\n",
       "      <td>0</td>\n",
       "      <td>...</td>\n",
       "      <td>0</td>\n",
       "      <td>0</td>\n",
       "      <td>0</td>\n",
       "      <td>0</td>\n",
       "      <td>0</td>\n",
       "      <td>0</td>\n",
       "      <td>1</td>\n",
       "      <td>0</td>\n",
       "      <td>0</td>\n",
       "      <td>0</td>\n",
       "    </tr>\n",
       "    <tr>\n",
       "      <th>3</th>\n",
       "      <td>1</td>\n",
       "      <td>-122.334803</td>\n",
       "      <td>47.604803</td>\n",
       "      <td>3</td>\n",
       "      <td>0</td>\n",
       "      <td>0</td>\n",
       "      <td>3</td>\n",
       "      <td>Daylight</td>\n",
       "      <td>1</td>\n",
       "      <td>0</td>\n",
       "      <td>...</td>\n",
       "      <td>0</td>\n",
       "      <td>0</td>\n",
       "      <td>0</td>\n",
       "      <td>0</td>\n",
       "      <td>0</td>\n",
       "      <td>0</td>\n",
       "      <td>1</td>\n",
       "      <td>0</td>\n",
       "      <td>0</td>\n",
       "      <td>0</td>\n",
       "    </tr>\n",
       "    <tr>\n",
       "      <th>4</th>\n",
       "      <td>2</td>\n",
       "      <td>-122.306426</td>\n",
       "      <td>47.545739</td>\n",
       "      <td>2</td>\n",
       "      <td>0</td>\n",
       "      <td>0</td>\n",
       "      <td>2</td>\n",
       "      <td>Daylight</td>\n",
       "      <td>1</td>\n",
       "      <td>0</td>\n",
       "      <td>...</td>\n",
       "      <td>0</td>\n",
       "      <td>0</td>\n",
       "      <td>0</td>\n",
       "      <td>0</td>\n",
       "      <td>0</td>\n",
       "      <td>0</td>\n",
       "      <td>1</td>\n",
       "      <td>0</td>\n",
       "      <td>0</td>\n",
       "      <td>0</td>\n",
       "    </tr>\n",
       "    <tr>\n",
       "      <th>...</th>\n",
       "      <td>...</td>\n",
       "      <td>...</td>\n",
       "      <td>...</td>\n",
       "      <td>...</td>\n",
       "      <td>...</td>\n",
       "      <td>...</td>\n",
       "      <td>...</td>\n",
       "      <td>...</td>\n",
       "      <td>...</td>\n",
       "      <td>...</td>\n",
       "      <td>...</td>\n",
       "      <td>...</td>\n",
       "      <td>...</td>\n",
       "      <td>...</td>\n",
       "      <td>...</td>\n",
       "      <td>...</td>\n",
       "      <td>...</td>\n",
       "      <td>...</td>\n",
       "      <td>...</td>\n",
       "      <td>...</td>\n",
       "      <td>...</td>\n",
       "    </tr>\n",
       "    <tr>\n",
       "      <th>194668</th>\n",
       "      <td>2</td>\n",
       "      <td>-122.290826</td>\n",
       "      <td>47.565408</td>\n",
       "      <td>3</td>\n",
       "      <td>0</td>\n",
       "      <td>0</td>\n",
       "      <td>2</td>\n",
       "      <td>Daylight</td>\n",
       "      <td>1</td>\n",
       "      <td>0</td>\n",
       "      <td>...</td>\n",
       "      <td>0</td>\n",
       "      <td>0</td>\n",
       "      <td>0</td>\n",
       "      <td>0</td>\n",
       "      <td>0</td>\n",
       "      <td>0</td>\n",
       "      <td>1</td>\n",
       "      <td>0</td>\n",
       "      <td>0</td>\n",
       "      <td>0</td>\n",
       "    </tr>\n",
       "    <tr>\n",
       "      <th>194669</th>\n",
       "      <td>1</td>\n",
       "      <td>-122.344526</td>\n",
       "      <td>47.690924</td>\n",
       "      <td>2</td>\n",
       "      <td>0</td>\n",
       "      <td>0</td>\n",
       "      <td>2</td>\n",
       "      <td>Daylight</td>\n",
       "      <td>1</td>\n",
       "      <td>0</td>\n",
       "      <td>...</td>\n",
       "      <td>0</td>\n",
       "      <td>0</td>\n",
       "      <td>0</td>\n",
       "      <td>0</td>\n",
       "      <td>0</td>\n",
       "      <td>0</td>\n",
       "      <td>1</td>\n",
       "      <td>0</td>\n",
       "      <td>0</td>\n",
       "      <td>0</td>\n",
       "    </tr>\n",
       "    <tr>\n",
       "      <th>194670</th>\n",
       "      <td>2</td>\n",
       "      <td>-122.306689</td>\n",
       "      <td>47.683047</td>\n",
       "      <td>3</td>\n",
       "      <td>0</td>\n",
       "      <td>0</td>\n",
       "      <td>2</td>\n",
       "      <td>Daylight</td>\n",
       "      <td>1</td>\n",
       "      <td>0</td>\n",
       "      <td>...</td>\n",
       "      <td>0</td>\n",
       "      <td>0</td>\n",
       "      <td>0</td>\n",
       "      <td>0</td>\n",
       "      <td>0</td>\n",
       "      <td>0</td>\n",
       "      <td>1</td>\n",
       "      <td>0</td>\n",
       "      <td>0</td>\n",
       "      <td>0</td>\n",
       "    </tr>\n",
       "    <tr>\n",
       "      <th>194671</th>\n",
       "      <td>2</td>\n",
       "      <td>-122.355317</td>\n",
       "      <td>47.678734</td>\n",
       "      <td>2</td>\n",
       "      <td>0</td>\n",
       "      <td>1</td>\n",
       "      <td>1</td>\n",
       "      <td>Dusk</td>\n",
       "      <td>1</td>\n",
       "      <td>0</td>\n",
       "      <td>...</td>\n",
       "      <td>0</td>\n",
       "      <td>0</td>\n",
       "      <td>0</td>\n",
       "      <td>0</td>\n",
       "      <td>0</td>\n",
       "      <td>0</td>\n",
       "      <td>0</td>\n",
       "      <td>1</td>\n",
       "      <td>0</td>\n",
       "      <td>0</td>\n",
       "    </tr>\n",
       "    <tr>\n",
       "      <th>194672</th>\n",
       "      <td>1</td>\n",
       "      <td>-122.289360</td>\n",
       "      <td>47.611017</td>\n",
       "      <td>2</td>\n",
       "      <td>0</td>\n",
       "      <td>0</td>\n",
       "      <td>2</td>\n",
       "      <td>Daylight</td>\n",
       "      <td>1</td>\n",
       "      <td>0</td>\n",
       "      <td>...</td>\n",
       "      <td>0</td>\n",
       "      <td>0</td>\n",
       "      <td>0</td>\n",
       "      <td>0</td>\n",
       "      <td>0</td>\n",
       "      <td>0</td>\n",
       "      <td>1</td>\n",
       "      <td>0</td>\n",
       "      <td>0</td>\n",
       "      <td>0</td>\n",
       "    </tr>\n",
       "  </tbody>\n",
       "</table>\n",
       "<p>189339 rows × 99 columns</p>\n",
       "</div>"
      ],
      "text/plain": [
       "        SEVERITYCODE           X          Y  PERSONCOUNT  PEDCOUNT  \\\n",
       "0                  2 -122.323148  47.703140            2         0   \n",
       "1                  1 -122.347294  47.647172            2         0   \n",
       "2                  1 -122.334540  47.607871            4         0   \n",
       "3                  1 -122.334803  47.604803            3         0   \n",
       "4                  2 -122.306426  47.545739            2         0   \n",
       "...              ...         ...        ...          ...       ...   \n",
       "194668             2 -122.290826  47.565408            3         0   \n",
       "194669             1 -122.344526  47.690924            2         0   \n",
       "194670             2 -122.306689  47.683047            3         0   \n",
       "194671             2 -122.355317  47.678734            2         0   \n",
       "194672             1 -122.289360  47.611017            2         0   \n",
       "\n",
       "        PEDCYLCOUNT  VEHCOUNT                LIGHTCOND  UNDERINFL_N  \\\n",
       "0                 0         2                 Daylight            1   \n",
       "1                 0         2  Dark - Street Lights On            1   \n",
       "2                 0         3                 Daylight            1   \n",
       "3                 0         3                 Daylight            1   \n",
       "4                 0         2                 Daylight            1   \n",
       "...             ...       ...                      ...          ...   \n",
       "194668            0         2                 Daylight            1   \n",
       "194669            0         2                 Daylight            1   \n",
       "194670            0         2                 Daylight            1   \n",
       "194671            1         1                     Dusk            1   \n",
       "194672            0         2                 Daylight            1   \n",
       "\n",
       "        UNDERINFL_Y  ...  HITPARKEDCAR_Y  Dark - No Street Lights  \\\n",
       "0                 0  ...               0                        0   \n",
       "1                 0  ...               0                        0   \n",
       "2                 0  ...               0                        0   \n",
       "3                 0  ...               0                        0   \n",
       "4                 0  ...               0                        0   \n",
       "...             ...  ...             ...                      ...   \n",
       "194668            0  ...               0                        0   \n",
       "194669            0  ...               0                        0   \n",
       "194670            0  ...               0                        0   \n",
       "194671            0  ...               0                        0   \n",
       "194672            0  ...               0                        0   \n",
       "\n",
       "        Dark - Street Lights Off  Dark - Street Lights On  \\\n",
       "0                              0                        0   \n",
       "1                              0                        1   \n",
       "2                              0                        0   \n",
       "3                              0                        0   \n",
       "4                              0                        0   \n",
       "...                          ...                      ...   \n",
       "194668                         0                        0   \n",
       "194669                         0                        0   \n",
       "194670                         0                        0   \n",
       "194671                         0                        0   \n",
       "194672                         0                        0   \n",
       "\n",
       "        Dark - Unknown Lighting  Dawn  Daylight  Dusk  Other  Unknown  \n",
       "0                             0     0         1     0      0        0  \n",
       "1                             0     0         0     0      0        0  \n",
       "2                             0     0         1     0      0        0  \n",
       "3                             0     0         1     0      0        0  \n",
       "4                             0     0         1     0      0        0  \n",
       "...                         ...   ...       ...   ...    ...      ...  \n",
       "194668                        0     0         1     0      0        0  \n",
       "194669                        0     0         1     0      0        0  \n",
       "194670                        0     0         1     0      0        0  \n",
       "194671                        0     0         0     1      0        0  \n",
       "194672                        0     0         1     0      0        0  \n",
       "\n",
       "[189339 rows x 99 columns]"
      ]
     },
     "execution_count": 58,
     "metadata": {},
     "output_type": "execute_result"
    }
   ],
   "source": [
    "df"
   ]
  },
  {
   "cell_type": "markdown",
   "metadata": {},
   "source": [
    "Drop all the Categorical Columns"
   ]
  },
  {
   "cell_type": "code",
   "execution_count": 53,
   "metadata": {},
   "outputs": [],
   "source": [
    "df = df.drop(columns=['UNDERINFL','ADDRTYPE','COLLISIONTYPE','JUNCTIONTYPE','SDOT_COLDESC','WEATHER','ROADCOND','HITPARKEDCAR'],axis=1)"
   ]
  },
  {
   "cell_type": "code",
   "execution_count": 59,
   "metadata": {},
   "outputs": [],
   "source": [
    "df = df.drop(columns='LIGHTCOND',axis=1)"
   ]
  },
  {
   "cell_type": "code",
   "execution_count": 60,
   "metadata": {},
   "outputs": [
    {
     "data": {
      "text/html": [
       "<div>\n",
       "<style scoped>\n",
       "    .dataframe tbody tr th:only-of-type {\n",
       "        vertical-align: middle;\n",
       "    }\n",
       "\n",
       "    .dataframe tbody tr th {\n",
       "        vertical-align: top;\n",
       "    }\n",
       "\n",
       "    .dataframe thead th {\n",
       "        text-align: right;\n",
       "    }\n",
       "</style>\n",
       "<table border=\"1\" class=\"dataframe\">\n",
       "  <thead>\n",
       "    <tr style=\"text-align: right;\">\n",
       "      <th></th>\n",
       "      <th>SEVERITYCODE</th>\n",
       "      <th>X</th>\n",
       "      <th>Y</th>\n",
       "      <th>PERSONCOUNT</th>\n",
       "      <th>PEDCOUNT</th>\n",
       "      <th>PEDCYLCOUNT</th>\n",
       "      <th>VEHCOUNT</th>\n",
       "      <th>UNDERINFL_N</th>\n",
       "      <th>UNDERINFL_Y</th>\n",
       "      <th>ADDRTYPE_Block</th>\n",
       "      <th>...</th>\n",
       "      <th>HITPARKEDCAR_Y</th>\n",
       "      <th>Dark - No Street Lights</th>\n",
       "      <th>Dark - Street Lights Off</th>\n",
       "      <th>Dark - Street Lights On</th>\n",
       "      <th>Dark - Unknown Lighting</th>\n",
       "      <th>Dawn</th>\n",
       "      <th>Daylight</th>\n",
       "      <th>Dusk</th>\n",
       "      <th>Other</th>\n",
       "      <th>Unknown</th>\n",
       "    </tr>\n",
       "  </thead>\n",
       "  <tbody>\n",
       "    <tr>\n",
       "      <th>0</th>\n",
       "      <td>2</td>\n",
       "      <td>-122.323148</td>\n",
       "      <td>47.703140</td>\n",
       "      <td>2</td>\n",
       "      <td>0</td>\n",
       "      <td>0</td>\n",
       "      <td>2</td>\n",
       "      <td>1</td>\n",
       "      <td>0</td>\n",
       "      <td>0</td>\n",
       "      <td>...</td>\n",
       "      <td>0</td>\n",
       "      <td>0</td>\n",
       "      <td>0</td>\n",
       "      <td>0</td>\n",
       "      <td>0</td>\n",
       "      <td>0</td>\n",
       "      <td>1</td>\n",
       "      <td>0</td>\n",
       "      <td>0</td>\n",
       "      <td>0</td>\n",
       "    </tr>\n",
       "    <tr>\n",
       "      <th>1</th>\n",
       "      <td>1</td>\n",
       "      <td>-122.347294</td>\n",
       "      <td>47.647172</td>\n",
       "      <td>2</td>\n",
       "      <td>0</td>\n",
       "      <td>0</td>\n",
       "      <td>2</td>\n",
       "      <td>1</td>\n",
       "      <td>0</td>\n",
       "      <td>1</td>\n",
       "      <td>...</td>\n",
       "      <td>0</td>\n",
       "      <td>0</td>\n",
       "      <td>0</td>\n",
       "      <td>1</td>\n",
       "      <td>0</td>\n",
       "      <td>0</td>\n",
       "      <td>0</td>\n",
       "      <td>0</td>\n",
       "      <td>0</td>\n",
       "      <td>0</td>\n",
       "    </tr>\n",
       "    <tr>\n",
       "      <th>2</th>\n",
       "      <td>1</td>\n",
       "      <td>-122.334540</td>\n",
       "      <td>47.607871</td>\n",
       "      <td>4</td>\n",
       "      <td>0</td>\n",
       "      <td>0</td>\n",
       "      <td>3</td>\n",
       "      <td>1</td>\n",
       "      <td>0</td>\n",
       "      <td>1</td>\n",
       "      <td>...</td>\n",
       "      <td>0</td>\n",
       "      <td>0</td>\n",
       "      <td>0</td>\n",
       "      <td>0</td>\n",
       "      <td>0</td>\n",
       "      <td>0</td>\n",
       "      <td>1</td>\n",
       "      <td>0</td>\n",
       "      <td>0</td>\n",
       "      <td>0</td>\n",
       "    </tr>\n",
       "    <tr>\n",
       "      <th>3</th>\n",
       "      <td>1</td>\n",
       "      <td>-122.334803</td>\n",
       "      <td>47.604803</td>\n",
       "      <td>3</td>\n",
       "      <td>0</td>\n",
       "      <td>0</td>\n",
       "      <td>3</td>\n",
       "      <td>1</td>\n",
       "      <td>0</td>\n",
       "      <td>1</td>\n",
       "      <td>...</td>\n",
       "      <td>0</td>\n",
       "      <td>0</td>\n",
       "      <td>0</td>\n",
       "      <td>0</td>\n",
       "      <td>0</td>\n",
       "      <td>0</td>\n",
       "      <td>1</td>\n",
       "      <td>0</td>\n",
       "      <td>0</td>\n",
       "      <td>0</td>\n",
       "    </tr>\n",
       "    <tr>\n",
       "      <th>4</th>\n",
       "      <td>2</td>\n",
       "      <td>-122.306426</td>\n",
       "      <td>47.545739</td>\n",
       "      <td>2</td>\n",
       "      <td>0</td>\n",
       "      <td>0</td>\n",
       "      <td>2</td>\n",
       "      <td>1</td>\n",
       "      <td>0</td>\n",
       "      <td>0</td>\n",
       "      <td>...</td>\n",
       "      <td>0</td>\n",
       "      <td>0</td>\n",
       "      <td>0</td>\n",
       "      <td>0</td>\n",
       "      <td>0</td>\n",
       "      <td>0</td>\n",
       "      <td>1</td>\n",
       "      <td>0</td>\n",
       "      <td>0</td>\n",
       "      <td>0</td>\n",
       "    </tr>\n",
       "    <tr>\n",
       "      <th>...</th>\n",
       "      <td>...</td>\n",
       "      <td>...</td>\n",
       "      <td>...</td>\n",
       "      <td>...</td>\n",
       "      <td>...</td>\n",
       "      <td>...</td>\n",
       "      <td>...</td>\n",
       "      <td>...</td>\n",
       "      <td>...</td>\n",
       "      <td>...</td>\n",
       "      <td>...</td>\n",
       "      <td>...</td>\n",
       "      <td>...</td>\n",
       "      <td>...</td>\n",
       "      <td>...</td>\n",
       "      <td>...</td>\n",
       "      <td>...</td>\n",
       "      <td>...</td>\n",
       "      <td>...</td>\n",
       "      <td>...</td>\n",
       "      <td>...</td>\n",
       "    </tr>\n",
       "    <tr>\n",
       "      <th>194668</th>\n",
       "      <td>2</td>\n",
       "      <td>-122.290826</td>\n",
       "      <td>47.565408</td>\n",
       "      <td>3</td>\n",
       "      <td>0</td>\n",
       "      <td>0</td>\n",
       "      <td>2</td>\n",
       "      <td>1</td>\n",
       "      <td>0</td>\n",
       "      <td>1</td>\n",
       "      <td>...</td>\n",
       "      <td>0</td>\n",
       "      <td>0</td>\n",
       "      <td>0</td>\n",
       "      <td>0</td>\n",
       "      <td>0</td>\n",
       "      <td>0</td>\n",
       "      <td>1</td>\n",
       "      <td>0</td>\n",
       "      <td>0</td>\n",
       "      <td>0</td>\n",
       "    </tr>\n",
       "    <tr>\n",
       "      <th>194669</th>\n",
       "      <td>1</td>\n",
       "      <td>-122.344526</td>\n",
       "      <td>47.690924</td>\n",
       "      <td>2</td>\n",
       "      <td>0</td>\n",
       "      <td>0</td>\n",
       "      <td>2</td>\n",
       "      <td>1</td>\n",
       "      <td>0</td>\n",
       "      <td>1</td>\n",
       "      <td>...</td>\n",
       "      <td>0</td>\n",
       "      <td>0</td>\n",
       "      <td>0</td>\n",
       "      <td>0</td>\n",
       "      <td>0</td>\n",
       "      <td>0</td>\n",
       "      <td>1</td>\n",
       "      <td>0</td>\n",
       "      <td>0</td>\n",
       "      <td>0</td>\n",
       "    </tr>\n",
       "    <tr>\n",
       "      <th>194670</th>\n",
       "      <td>2</td>\n",
       "      <td>-122.306689</td>\n",
       "      <td>47.683047</td>\n",
       "      <td>3</td>\n",
       "      <td>0</td>\n",
       "      <td>0</td>\n",
       "      <td>2</td>\n",
       "      <td>1</td>\n",
       "      <td>0</td>\n",
       "      <td>0</td>\n",
       "      <td>...</td>\n",
       "      <td>0</td>\n",
       "      <td>0</td>\n",
       "      <td>0</td>\n",
       "      <td>0</td>\n",
       "      <td>0</td>\n",
       "      <td>0</td>\n",
       "      <td>1</td>\n",
       "      <td>0</td>\n",
       "      <td>0</td>\n",
       "      <td>0</td>\n",
       "    </tr>\n",
       "    <tr>\n",
       "      <th>194671</th>\n",
       "      <td>2</td>\n",
       "      <td>-122.355317</td>\n",
       "      <td>47.678734</td>\n",
       "      <td>2</td>\n",
       "      <td>0</td>\n",
       "      <td>1</td>\n",
       "      <td>1</td>\n",
       "      <td>1</td>\n",
       "      <td>0</td>\n",
       "      <td>0</td>\n",
       "      <td>...</td>\n",
       "      <td>0</td>\n",
       "      <td>0</td>\n",
       "      <td>0</td>\n",
       "      <td>0</td>\n",
       "      <td>0</td>\n",
       "      <td>0</td>\n",
       "      <td>0</td>\n",
       "      <td>1</td>\n",
       "      <td>0</td>\n",
       "      <td>0</td>\n",
       "    </tr>\n",
       "    <tr>\n",
       "      <th>194672</th>\n",
       "      <td>1</td>\n",
       "      <td>-122.289360</td>\n",
       "      <td>47.611017</td>\n",
       "      <td>2</td>\n",
       "      <td>0</td>\n",
       "      <td>0</td>\n",
       "      <td>2</td>\n",
       "      <td>1</td>\n",
       "      <td>0</td>\n",
       "      <td>1</td>\n",
       "      <td>...</td>\n",
       "      <td>0</td>\n",
       "      <td>0</td>\n",
       "      <td>0</td>\n",
       "      <td>0</td>\n",
       "      <td>0</td>\n",
       "      <td>0</td>\n",
       "      <td>1</td>\n",
       "      <td>0</td>\n",
       "      <td>0</td>\n",
       "      <td>0</td>\n",
       "    </tr>\n",
       "  </tbody>\n",
       "</table>\n",
       "<p>189339 rows × 98 columns</p>\n",
       "</div>"
      ],
      "text/plain": [
       "        SEVERITYCODE           X          Y  PERSONCOUNT  PEDCOUNT  \\\n",
       "0                  2 -122.323148  47.703140            2         0   \n",
       "1                  1 -122.347294  47.647172            2         0   \n",
       "2                  1 -122.334540  47.607871            4         0   \n",
       "3                  1 -122.334803  47.604803            3         0   \n",
       "4                  2 -122.306426  47.545739            2         0   \n",
       "...              ...         ...        ...          ...       ...   \n",
       "194668             2 -122.290826  47.565408            3         0   \n",
       "194669             1 -122.344526  47.690924            2         0   \n",
       "194670             2 -122.306689  47.683047            3         0   \n",
       "194671             2 -122.355317  47.678734            2         0   \n",
       "194672             1 -122.289360  47.611017            2         0   \n",
       "\n",
       "        PEDCYLCOUNT  VEHCOUNT  UNDERINFL_N  UNDERINFL_Y  ADDRTYPE_Block  ...  \\\n",
       "0                 0         2            1            0               0  ...   \n",
       "1                 0         2            1            0               1  ...   \n",
       "2                 0         3            1            0               1  ...   \n",
       "3                 0         3            1            0               1  ...   \n",
       "4                 0         2            1            0               0  ...   \n",
       "...             ...       ...          ...          ...             ...  ...   \n",
       "194668            0         2            1            0               1  ...   \n",
       "194669            0         2            1            0               1  ...   \n",
       "194670            0         2            1            0               0  ...   \n",
       "194671            1         1            1            0               0  ...   \n",
       "194672            0         2            1            0               1  ...   \n",
       "\n",
       "        HITPARKEDCAR_Y  Dark - No Street Lights  Dark - Street Lights Off  \\\n",
       "0                    0                        0                         0   \n",
       "1                    0                        0                         0   \n",
       "2                    0                        0                         0   \n",
       "3                    0                        0                         0   \n",
       "4                    0                        0                         0   \n",
       "...                ...                      ...                       ...   \n",
       "194668               0                        0                         0   \n",
       "194669               0                        0                         0   \n",
       "194670               0                        0                         0   \n",
       "194671               0                        0                         0   \n",
       "194672               0                        0                         0   \n",
       "\n",
       "        Dark - Street Lights On  Dark - Unknown Lighting  Dawn  Daylight  \\\n",
       "0                             0                        0     0         1   \n",
       "1                             1                        0     0         0   \n",
       "2                             0                        0     0         1   \n",
       "3                             0                        0     0         1   \n",
       "4                             0                        0     0         1   \n",
       "...                         ...                      ...   ...       ...   \n",
       "194668                        0                        0     0         1   \n",
       "194669                        0                        0     0         1   \n",
       "194670                        0                        0     0         1   \n",
       "194671                        0                        0     0         0   \n",
       "194672                        0                        0     0         1   \n",
       "\n",
       "        Dusk  Other  Unknown  \n",
       "0          0      0        0  \n",
       "1          0      0        0  \n",
       "2          0      0        0  \n",
       "3          0      0        0  \n",
       "4          0      0        0  \n",
       "...      ...    ...      ...  \n",
       "194668     0      0        0  \n",
       "194669     0      0        0  \n",
       "194670     0      0        0  \n",
       "194671     1      0        0  \n",
       "194672     0      0        0  \n",
       "\n",
       "[189339 rows x 98 columns]"
      ]
     },
     "execution_count": 60,
     "metadata": {},
     "output_type": "execute_result"
    }
   ],
   "source": [
    "df"
   ]
  },
  {
   "cell_type": "markdown",
   "metadata": {},
   "source": [
    "# Logistic Regression"
   ]
  },
  {
   "cell_type": "markdown",
   "metadata": {},
   "source": [
    "## Train Test Split"
   ]
  },
  {
   "cell_type": "code",
   "execution_count": 62,
   "metadata": {},
   "outputs": [],
   "source": [
    "X = df.drop(columns='SEVERITYCODE',axis=1)"
   ]
  },
  {
   "cell_type": "code",
   "execution_count": 64,
   "metadata": {},
   "outputs": [],
   "source": [
    "y = df['SEVERITYCODE']"
   ]
  },
  {
   "cell_type": "code",
   "execution_count": 65,
   "metadata": {},
   "outputs": [
    {
     "name": "stdout",
     "output_type": "stream",
     "text": [
      "Train set: (151471, 97) (151471,)\n",
      "Test set: (37868, 97) (37868,)\n"
     ]
    }
   ],
   "source": [
    "from sklearn.model_selection import train_test_split\n",
    "X_train, X_test, y_train, y_test = train_test_split( X, y, test_size=0.2, random_state=4)\n",
    "print ('Train set:', X_train.shape,  y_train.shape)\n",
    "print ('Test set:', X_test.shape,  y_test.shape)"
   ]
  },
  {
   "cell_type": "markdown",
   "metadata": {},
   "source": [
    "<h2 id=\"modeling\">Modeling (Logistic Regression with Scikit-learn)</h2>"
   ]
  },
  {
   "cell_type": "markdown",
   "metadata": {},
   "source": [
    "Lets build our model using __LogisticRegression__ from Scikit-learn package. This function implements logistic regression and can use different numerical optimizers to find parameters, including ‘newton-cg’, ‘lbfgs’, ‘liblinear’, ‘sag’, ‘saga’ solvers. You can find extensive information about the pros and cons of these optimizers if you search it in internet.\n",
    "\n",
    "The version of Logistic Regression in Scikit-learn, support regularization. Regularization is a technique used to solve the overfitting problem in machine learning models.\n",
    "__C__ parameter indicates __inverse of regularization strength__ which must be a positive float. Smaller values specify stronger regularization. \n",
    "Now lets fit our model with train set:"
   ]
  },
  {
   "cell_type": "code",
   "execution_count": 66,
   "metadata": {},
   "outputs": [
    {
     "data": {
      "text/plain": [
       "LogisticRegression(C=0.01, class_weight=None, dual=False, fit_intercept=True,\n",
       "                   intercept_scaling=1, l1_ratio=None, max_iter=100,\n",
       "                   multi_class='auto', n_jobs=None, penalty='l2',\n",
       "                   random_state=None, solver='liblinear', tol=0.0001, verbose=0,\n",
       "                   warm_start=False)"
      ]
     },
     "execution_count": 66,
     "metadata": {},
     "output_type": "execute_result"
    }
   ],
   "source": [
    "from sklearn.linear_model import LogisticRegression\n",
    "from sklearn.metrics import confusion_matrix\n",
    "LR = LogisticRegression(C=0.01, solver='liblinear').fit(X_train,y_train)\n",
    "LR"
   ]
  },
  {
   "cell_type": "markdown",
   "metadata": {},
   "source": [
    "Now we can predict using our test set:"
   ]
  },
  {
   "cell_type": "code",
   "execution_count": 67,
   "metadata": {},
   "outputs": [
    {
     "data": {
      "text/plain": [
       "array([1, 1, 1, ..., 1, 1, 1], dtype=int64)"
      ]
     },
     "execution_count": 67,
     "metadata": {},
     "output_type": "execute_result"
    }
   ],
   "source": [
    "yhat = LR.predict(X_test)\n",
    "yhat"
   ]
  },
  {
   "cell_type": "markdown",
   "metadata": {},
   "source": [
    "__predict_proba__  returns estimates for all classes, ordered by the label of classes. So, the first column is the probability of class 1, P(Y=1|X), and second column is probability of class 0, P(Y=0|X):"
   ]
  },
  {
   "cell_type": "code",
   "execution_count": 68,
   "metadata": {},
   "outputs": [
    {
     "data": {
      "text/plain": [
       "array([[0.88383342, 0.11616658],\n",
       "       [0.70033671, 0.29966329],\n",
       "       [0.75345813, 0.24654187],\n",
       "       ...,\n",
       "       [0.98093502, 0.01906498],\n",
       "       [0.74309952, 0.25690048],\n",
       "       [0.73171236, 0.26828764]])"
      ]
     },
     "execution_count": 68,
     "metadata": {},
     "output_type": "execute_result"
    }
   ],
   "source": [
    "yhat_prob = LR.predict_proba(X_test)\n",
    "yhat_prob"
   ]
  },
  {
   "cell_type": "markdown",
   "metadata": {},
   "source": [
    "<h2 id=\"evaluation\">Evaluation</h2>"
   ]
  },
  {
   "cell_type": "markdown",
   "metadata": {},
   "source": [
    "### jaccard index\n",
    "Lets try jaccard index for accuracy evaluation. we can define jaccard as the size of the intersection divided by the size of the union of two label sets. If the entire set of predicted labels for a sample strictly match with the true set of labels, then the subset accuracy is 1.0; otherwise it is 0.0.\n"
   ]
  },
  {
   "cell_type": "code",
   "execution_count": 69,
   "metadata": {},
   "outputs": [
    {
     "name": "stderr",
     "output_type": "stream",
     "text": [
      "C:\\ProgramData\\Anaconda3\\lib\\site-packages\\sklearn\\metrics\\_classification.py:664: FutureWarning: jaccard_similarity_score has been deprecated and replaced with jaccard_score. It will be removed in version 0.23. This implementation has surprising behavior for binary and multiclass classification tasks.\n",
      "  FutureWarning)\n"
     ]
    },
    {
     "data": {
      "text/plain": [
       "0.7532481250660188"
      ]
     },
     "execution_count": 69,
     "metadata": {},
     "output_type": "execute_result"
    }
   ],
   "source": [
    "from sklearn.metrics import jaccard_similarity_score\n",
    "jaccard_similarity_score(y_test, yhat)"
   ]
  },
  {
   "cell_type": "markdown",
   "metadata": {},
   "source": [
    "### confusion matrix\n",
    "Another way of looking at accuracy of classifier is to look at __confusion matrix__."
   ]
  },
  {
   "cell_type": "code",
   "execution_count": 72,
   "metadata": {},
   "outputs": [
    {
     "name": "stdout",
     "output_type": "stream",
     "text": [
      "[[25130  1121]\n",
      " [ 8223  3394]]\n"
     ]
    }
   ],
   "source": [
    "from sklearn.metrics import classification_report, confusion_matrix\n",
    "import itertools\n",
    "def plot_confusion_matrix(cm, classes,\n",
    "                          normalize=False,\n",
    "                          title='Confusion matrix',\n",
    "                          cmap=plt.cm.Blues):\n",
    "    \"\"\"\n",
    "    This function prints and plots the confusion matrix.\n",
    "    Normalization can be applied by setting `normalize=True`.\n",
    "    \"\"\"\n",
    "    if normalize:\n",
    "        cm = cm.astype('float') / cm.sum(axis=1)[:, np.newaxis]\n",
    "        print(\"Normalized confusion matrix\")\n",
    "    else:\n",
    "        print('Confusion matrix, without normalization')\n",
    "\n",
    "    print(cm)\n",
    "\n",
    "    plt.imshow(cm, interpolation='nearest', cmap=cmap)\n",
    "    plt.title(title)\n",
    "    plt.colorbar()\n",
    "    tick_marks = np.arange(len(classes))\n",
    "    plt.xticks(tick_marks, classes, rotation=45)\n",
    "    plt.yticks(tick_marks, classes)\n",
    "\n",
    "    fmt = '.2f' if normalize else 'd'\n",
    "    thresh = cm.max() / 2.\n",
    "    for i, j in itertools.product(range(cm.shape[0]), range(cm.shape[1])):\n",
    "        plt.text(j, i, format(cm[i, j], fmt),\n",
    "                 horizontalalignment=\"center\",\n",
    "                 color=\"white\" if cm[i, j] > thresh else \"black\")\n",
    "\n",
    "    plt.tight_layout()\n",
    "    plt.ylabel('True label')\n",
    "    plt.xlabel('Predicted label')\n",
    "print(confusion_matrix(y_test, yhat, labels=[1,2]))"
   ]
  },
  {
   "cell_type": "code",
   "execution_count": 75,
   "metadata": {},
   "outputs": [
    {
     "name": "stdout",
     "output_type": "stream",
     "text": [
      "Confusion matrix, without normalization\n",
      "[[25130  1121]\n",
      " [ 8223  3394]]\n"
     ]
    },
    {
     "data": {
      "image/png": "[encoded data removed]",
      "text/plain": [
       "<Figure size 432x288 with 2 Axes>"
      ]
     },
     "metadata": {
      "needs_background": "light"
     },
     "output_type": "display_data"
    }
   ],
   "source": [
    "# Compute confusion matrix\n",
    "cnf_matrix = confusion_matrix(y_test, yhat, labels=[1,2])\n",
    "np.set_printoptions(precision=2)\n",
    "\n",
    "\n",
    "# Plot non-normalized confusion matrix\n",
    "plt.figure()\n",
    "plot_confusion_matrix(cnf_matrix, classes=['severitycode=1','severitycode=0'],normalize= False,  title='Confusion matrix')"
   ]
  },
  {
   "cell_type": "code",
   "execution_count": 76,
   "metadata": {},
   "outputs": [
    {
     "name": "stdout",
     "output_type": "stream",
     "text": [
      "              precision    recall  f1-score   support\n",
      "\n",
      "           1       0.75      0.96      0.84     26251\n",
      "           2       0.75      0.29      0.42     11617\n",
      "\n",
      "    accuracy                           0.75     37868\n",
      "   macro avg       0.75      0.62      0.63     37868\n",
      "weighted avg       0.75      0.75      0.71     37868\n",
      "\n"
     ]
    }
   ],
   "source": [
    "print (classification_report(y_test, yhat))"
   ]
  },
  {
   "cell_type": "markdown",
   "metadata": {},
   "source": [
    "Based on the count of each section, we can calculate precision and recall of each label:\n",
    "\n",
    "\n",
    "- __Precision__ is a measure of the accuracy provided that a class label has been predicted. It is defined by: precision = TP / (TP + FP)\n",
    "\n",
    "- __Recall__ is true positive rate. It is defined as: Recall =  TP / (TP + FN)\n",
    "\n",
    "    \n",
    "So, we can calculate precision and recall of each class.\n",
    "\n",
    "__F1 score:__\n",
    "Now we are in the position to calculate the F1 scores for each label based on the precision and recall of that label. \n",
    "\n",
    "The F1 score is the harmonic average of the precision and recall, where an F1 score reaches its best value at 1 (perfect precision and recall) and worst at 0. It is a good way to show that a classifer has a good value for both recall and precision.\n",
    "\n",
    "\n",
    "And finally, we can tell the average accuracy for this classifier is the average of the F1-score for both labels, which is 0.72 in our case."
   ]
  },
  {
   "cell_type": "markdown",
   "metadata": {},
   "source": [
    "### log loss\n",
    "Now, lets try __log loss__ for evaluation. In logistic regression, the output can be the probability of customer churn is yes (or equals to 1). This probability is a value between 0 and 1.\n",
    "Log loss( Logarithmic loss) measures the performance of a classifier where the predicted output is a probability value between 0 and 1. \n"
   ]
  },
  {
   "cell_type": "code",
   "execution_count": 77,
   "metadata": {},
   "outputs": [
    {
     "data": {
      "text/plain": [
       "0.4829863595955511"
      ]
     },
     "execution_count": 77,
     "metadata": {},
     "output_type": "execute_result"
    }
   ],
   "source": [
    "from sklearn.metrics import log_loss\n",
    "log_loss(y_test, yhat_prob)"
   ]
  },
  {
   "cell_type": "markdown",
   "metadata": {},
   "source": [
    "## Results and Discussion <a name=\"results\"></a>"
   ]
  },
  {
   "cell_type": "markdown",
   "metadata": {},
   "source": [
    "Most of the Features that determine are non linear and overlap on other features.\n",
    "The Correlation between any two features is very less and combinely helps in predicting the Severity of an accident\n"
   ]
  },
  {
   "cell_type": "markdown",
   "metadata": {},
   "source": [
    "The Accuracy of the model is 0.75\n"
   ]
  },
  {
   "cell_type": "markdown",
   "metadata": {},
   "source": [
    "log loss of the model is 0.48"
   ]
  },
  {
   "cell_type": "markdown",
   "metadata": {},
   "source": [
    "There is a high probabilty of accident on the Intersection"
   ]
  },
  {
   "cell_type": "code",
   "execution_count": 81,
   "metadata": {},
   "outputs": [
    {
     "data": {
      "text/plain": [
       "1    132221\n",
       "2     57118\n",
       "Name: SEVERITYCODE, dtype: int64"
      ]
     },
     "execution_count": 81,
     "metadata": {},
     "output_type": "execute_result"
    }
   ],
   "source": [
    "df['SEVERITYCODE'].value_counts()"
   ]
  },
  {
   "cell_type": "markdown",
   "metadata": {},
   "source": [
    "The accident are mostly Property Damage"
   ]
  },
  {
   "cell_type": "markdown",
   "metadata": {},
   "source": [
    "SEVERITYCODE Description\n",
    "2—injury\n",
    "1—prop damage"
   ]
  },
  {
   "cell_type": "markdown",
   "metadata": {},
   "source": [
    "## Conclusion <a name=\"conclusion\"></a>"
   ]
  },
  {
   "cell_type": "code",
   "execution_count": null,
   "metadata": {},
   "outputs": [],
   "source": [
    "Although The predticion is moderate, the Data that is collected from the Car with e"
   ]
  }
 ],
 "metadata": {
  "kernelspec": {
   "display_name": "Python 3",
   "language": "python",
   "name": "python3"
  },
  "language_info": {
   "codemirror_mode": {
    "name": "ipython",
    "version": 3
   },
   "file_extension": ".py",
   "mimetype": "text/x-python",
   "name": "python",
   "nbconvert_exporter": "python",
   "pygments_lexer": "ipython3",
   "version": "3.7.6"
  }
 },
 "nbformat": 4,
 "nbformat_minor": 4
}
