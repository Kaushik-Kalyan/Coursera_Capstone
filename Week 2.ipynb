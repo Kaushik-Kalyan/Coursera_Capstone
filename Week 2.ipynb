{
 "cells": [
  {
   "cell_type": "markdown",
   "metadata": {},
   "source": [
    "# Car Accident Severity"
   ]
  },
  {
   "cell_type": "markdown",
   "metadata": {},
   "source": [
    "# ___Introduction___"
   ]
  },
  {
   "cell_type": "markdown",
   "metadata": {},
   "source": [
    "   Every year the lives of approximately 1.35 million people are cut short as a result of a road traffic crash. Between 20 and 50 million more people suffer non-fatal injuries, with many incurring a disability as a result of their injury.\n",
    "\n",
    "   Road traffic injuries cause considerable economic losses to individuals, their families, and to nations as a whole. These losses arise from the cost of treatment as well as lost productivity for those killed or disabled by their injuries, and for family members who need to take time off work or school to care for the injured. Road traffic crashes cost most countries 3% of their gross domestic product."
   ]
  },
  {
   "cell_type": "markdown",
   "metadata": {},
   "source": [
    "Predicting an accident and minimizing the frequency of accidents is an atmost requirement for any person or it may be for Health Care Organisations.\n",
    "An accident and its sererity can be predicted based on several factor.\n",
    "<ul>\n",
    "    <li>Place of Accident(The place where the most accidents occur are more likely for encountering another accident).</li>\n",
    "    <li>Type of Vehicle(Some Vehicles are more prone for accidents</li>\n",
    "    <li>Road Condition</li>\n",
    "    <li>Weather & etc</li>\n",
    "</ul>\n",
    "\n",
    "<em>Predicting an accident severity ahead for a road,helps a driver to take a detour or makes him drive carefully.</em>\n",
    "    \n",
    "    "
   ]
  },
  {
   "cell_type": "markdown",
   "metadata": {},
   "source": [
    "### __Problem Statement__\n",
    "Can we predict the severity of an accident based on the previous history of the accidents?\n"
   ]
  },
  {
   "cell_type": "markdown",
   "metadata": {},
   "source": [
    "## Target Audience"
   ]
  },
  {
   "cell_type": "markdown",
   "metadata": {},
   "source": [
    "- Self Driving Cars - A car on AutoPilot will inform the Driver about the likehood of an accident and how severe it can be.\n",
    "- Navigation Systems - The optimal route maybe not the safest. Prediction helps to choose a route that is more safer and avoid accidents\n",
    "- Government - It helps for better road constructions and Safety measures and establishing Hospitals near the places which are more likely for Accident occurance."
   ]
  },
  {
   "cell_type": "markdown",
   "metadata": {},
   "source": [
    "# ___Data___"
   ]
  },
  {
   "cell_type": "markdown",
   "metadata": {},
   "source": [
    "The Dataset used for the analysis is provide by SDOT Traffic Management Division, Traffic Records Group, for Seattle.Is consists of all the recorded accident cases of 2004-2018.It also includes the severity of an accident.\n",
    "\n",
    "The Dataset contains nearly 200000 row and 38 columns, it includes co-ordinates and type of accident and the severity of it."
   ]
  },
  {
   "cell_type": "code",
   "execution_count": null,
   "metadata": {},
   "outputs": [],
   "source": []
  }
 ],
 "metadata": {
  "kernelspec": {
   "display_name": "Python 3",
   "language": "python",
   "name": "python3"
  },
  "language_info": {
   "codemirror_mode": {
    "name": "ipython",
    "version": 3
   },
   "file_extension": ".py",
   "mimetype": "text/x-python",
   "name": "python",
   "nbconvert_exporter": "python",
   "pygments_lexer": "ipython3",
   "version": "3.7.6"
  }
 },
 "nbformat": 4,
 "nbformat_minor": 4
}
